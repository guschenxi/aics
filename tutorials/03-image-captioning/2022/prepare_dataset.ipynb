{
 "cells": [
  {
   "cell_type": "code",
   "execution_count": 1,
   "id": "595e2500-3dfa-4bff-903e-e4bf9881306f",
   "metadata": {},
   "outputs": [],
   "source": [
    "from glob import glob\n",
    "import pandas as pd\n",
    "\n",
    "flickr8k_captions = '/srv/data/aics/03-image-captioning/data/flickr8k/captions.txt'\n",
    "flickr8k_images = '/srv/data/aics/03-image-captioning/data/flickr8k/Images/*.jpg'\n",
    "\n",
    "images = glob(flickr8k_images)\n",
    "captions = pd.read_csv(flickr8k_captions, delimiter = ',')"
   ]
  },
  {
   "cell_type": "code",
   "execution_count": 2,
   "id": "d60cf19b-e5b6-4ad2-8856-fc2dcf53cad7",
   "metadata": {},
   "outputs": [
    {
     "data": {
      "text/plain": [
       "['/srv/data/aics/03-image-captioning/data/flickr8k/Images/2387197355_237f6f41ee.jpg',\n",
       " '/srv/data/aics/03-image-captioning/data/flickr8k/Images/2609847254_0ec40c1cce.jpg',\n",
       " '/srv/data/aics/03-image-captioning/data/flickr8k/Images/2046222127_a6f300e202.jpg']"
      ]
     },
     "execution_count": 2,
     "metadata": {},
     "output_type": "execute_result"
    }
   ],
   "source": [
    "images[:3]"
   ]
  },
  {
   "cell_type": "code",
   "execution_count": 3,
   "id": "39388b0b-d338-44ca-a592-87fcebba2540",
   "metadata": {},
   "outputs": [
    {
     "data": {
      "text/html": [
       "<div>\n",
       "<style scoped>\n",
       "    .dataframe tbody tr th:only-of-type {\n",
       "        vertical-align: middle;\n",
       "    }\n",
       "\n",
       "    .dataframe tbody tr th {\n",
       "        vertical-align: top;\n",
       "    }\n",
       "\n",
       "    .dataframe thead th {\n",
       "        text-align: right;\n",
       "    }\n",
       "</style>\n",
       "<table border=\"1\" class=\"dataframe\">\n",
       "  <thead>\n",
       "    <tr style=\"text-align: right;\">\n",
       "      <th></th>\n",
       "      <th>image</th>\n",
       "      <th>caption</th>\n",
       "    </tr>\n",
       "  </thead>\n",
       "  <tbody>\n",
       "    <tr>\n",
       "      <th>0</th>\n",
       "      <td>1000268201_693b08cb0e.jpg</td>\n",
       "      <td>A child in a pink dress is climbing up a set o...</td>\n",
       "    </tr>\n",
       "    <tr>\n",
       "      <th>1</th>\n",
       "      <td>1000268201_693b08cb0e.jpg</td>\n",
       "      <td>A girl going into a wooden building .</td>\n",
       "    </tr>\n",
       "    <tr>\n",
       "      <th>2</th>\n",
       "      <td>1000268201_693b08cb0e.jpg</td>\n",
       "      <td>A little girl climbing into a wooden playhouse .</td>\n",
       "    </tr>\n",
       "    <tr>\n",
       "      <th>3</th>\n",
       "      <td>1000268201_693b08cb0e.jpg</td>\n",
       "      <td>A little girl climbing the stairs to her playh...</td>\n",
       "    </tr>\n",
       "    <tr>\n",
       "      <th>4</th>\n",
       "      <td>1000268201_693b08cb0e.jpg</td>\n",
       "      <td>A little girl in a pink dress going into a woo...</td>\n",
       "    </tr>\n",
       "    <tr>\n",
       "      <th>5</th>\n",
       "      <td>1001773457_577c3a7d70.jpg</td>\n",
       "      <td>A black dog and a spotted dog are fighting</td>\n",
       "    </tr>\n",
       "    <tr>\n",
       "      <th>6</th>\n",
       "      <td>1001773457_577c3a7d70.jpg</td>\n",
       "      <td>A black dog and a tri-colored dog playing with...</td>\n",
       "    </tr>\n",
       "  </tbody>\n",
       "</table>\n",
       "</div>"
      ],
      "text/plain": [
       "                       image  \\\n",
       "0  1000268201_693b08cb0e.jpg   \n",
       "1  1000268201_693b08cb0e.jpg   \n",
       "2  1000268201_693b08cb0e.jpg   \n",
       "3  1000268201_693b08cb0e.jpg   \n",
       "4  1000268201_693b08cb0e.jpg   \n",
       "5  1001773457_577c3a7d70.jpg   \n",
       "6  1001773457_577c3a7d70.jpg   \n",
       "\n",
       "                                             caption  \n",
       "0  A child in a pink dress is climbing up a set o...  \n",
       "1              A girl going into a wooden building .  \n",
       "2   A little girl climbing into a wooden playhouse .  \n",
       "3  A little girl climbing the stairs to her playh...  \n",
       "4  A little girl in a pink dress going into a woo...  \n",
       "5         A black dog and a spotted dog are fighting  \n",
       "6  A black dog and a tri-colored dog playing with...  "
      ]
     },
     "execution_count": 3,
     "metadata": {},
     "output_type": "execute_result"
    }
   ],
   "source": [
    "captions.head(7)"
   ]
  },
  {
   "cell_type": "code",
   "execution_count": 4,
   "id": "cdf3ecb0-d17f-4dee-8b74-2496b2fa647c",
   "metadata": {},
   "outputs": [
    {
     "data": {
      "text/plain": [
       "8091.0"
      ]
     },
     "execution_count": 4,
     "metadata": {},
     "output_type": "execute_result"
    }
   ],
   "source": [
    "captions.shape[0] / 5"
   ]
  },
  {
   "cell_type": "code",
   "execution_count": 5,
   "id": "d2762886-ae97-4482-921d-943f32b469dd",
   "metadata": {},
   "outputs": [
    {
     "data": {
      "text/plain": [
       "8091"
      ]
     },
     "execution_count": 5,
     "metadata": {},
     "output_type": "execute_result"
    }
   ],
   "source": [
    "len(images)"
   ]
  },
  {
   "cell_type": "code",
   "execution_count": 6,
   "id": "1c887b1f-867b-4421-a8d0-7e993d39b8a0",
   "metadata": {},
   "outputs": [],
   "source": [
    "dataset = captions"
   ]
  },
  {
   "cell_type": "code",
   "execution_count": 7,
   "id": "7e1e1c57-03a8-4fc1-9c7c-15637c8d5cbb",
   "metadata": {},
   "outputs": [],
   "source": [
    "def add_path(image):\n",
    "    for item in images:\n",
    "        if image in item:\n",
    "            return item\n",
    "    return None"
   ]
  },
  {
   "cell_type": "code",
   "execution_count": 8,
   "id": "226e4cbb-5e61-4e34-ad05-b071f446ac0a",
   "metadata": {},
   "outputs": [],
   "source": [
    "dataset['path'] = dataset.apply(lambda row: add_path(row.image), axis=1)"
   ]
  },
  {
   "cell_type": "code",
   "execution_count": 9,
   "id": "ab9f54f3-0e18-40da-96c5-1887905ab0e4",
   "metadata": {},
   "outputs": [
    {
     "data": {
      "text/plain": [
       "array(['/srv/data/aics/03-image-captioning/data/flickr8k/Images/1000268201_693b08cb0e.jpg',\n",
       "       '/srv/data/aics/03-image-captioning/data/flickr8k/Images/1000268201_693b08cb0e.jpg',\n",
       "       '/srv/data/aics/03-image-captioning/data/flickr8k/Images/1000268201_693b08cb0e.jpg',\n",
       "       '/srv/data/aics/03-image-captioning/data/flickr8k/Images/1000268201_693b08cb0e.jpg',\n",
       "       '/srv/data/aics/03-image-captioning/data/flickr8k/Images/1000268201_693b08cb0e.jpg',\n",
       "       '/srv/data/aics/03-image-captioning/data/flickr8k/Images/1001773457_577c3a7d70.jpg',\n",
       "       '/srv/data/aics/03-image-captioning/data/flickr8k/Images/1001773457_577c3a7d70.jpg'],\n",
       "      dtype=object)"
      ]
     },
     "execution_count": 9,
     "metadata": {},
     "output_type": "execute_result"
    }
   ],
   "source": [
    "dataset.head(7)['path'].values"
   ]
  },
  {
   "cell_type": "code",
   "execution_count": 10,
   "id": "92b479df-7ca5-4c32-8980-f9763527bdec",
   "metadata": {},
   "outputs": [
    {
     "data": {
      "text/html": [
       "<div>\n",
       "<style scoped>\n",
       "    .dataframe tbody tr th:only-of-type {\n",
       "        vertical-align: middle;\n",
       "    }\n",
       "\n",
       "    .dataframe tbody tr th {\n",
       "        vertical-align: top;\n",
       "    }\n",
       "\n",
       "    .dataframe thead th {\n",
       "        text-align: right;\n",
       "    }\n",
       "</style>\n",
       "<table border=\"1\" class=\"dataframe\">\n",
       "  <thead>\n",
       "    <tr style=\"text-align: right;\">\n",
       "      <th></th>\n",
       "      <th>image</th>\n",
       "      <th>caption</th>\n",
       "      <th>path</th>\n",
       "    </tr>\n",
       "  </thead>\n",
       "  <tbody>\n",
       "    <tr>\n",
       "      <th>0</th>\n",
       "      <td>1000268201_693b08cb0e.jpg</td>\n",
       "      <td>A child in a pink dress is climbing up a set o...</td>\n",
       "      <td>/srv/data/aics/03-image-captioning/data/flickr...</td>\n",
       "    </tr>\n",
       "    <tr>\n",
       "      <th>1</th>\n",
       "      <td>1000268201_693b08cb0e.jpg</td>\n",
       "      <td>A girl going into a wooden building .</td>\n",
       "      <td>/srv/data/aics/03-image-captioning/data/flickr...</td>\n",
       "    </tr>\n",
       "    <tr>\n",
       "      <th>2</th>\n",
       "      <td>1000268201_693b08cb0e.jpg</td>\n",
       "      <td>A little girl climbing into a wooden playhouse .</td>\n",
       "      <td>/srv/data/aics/03-image-captioning/data/flickr...</td>\n",
       "    </tr>\n",
       "    <tr>\n",
       "      <th>3</th>\n",
       "      <td>1000268201_693b08cb0e.jpg</td>\n",
       "      <td>A little girl climbing the stairs to her playh...</td>\n",
       "      <td>/srv/data/aics/03-image-captioning/data/flickr...</td>\n",
       "    </tr>\n",
       "    <tr>\n",
       "      <th>4</th>\n",
       "      <td>1000268201_693b08cb0e.jpg</td>\n",
       "      <td>A little girl in a pink dress going into a woo...</td>\n",
       "      <td>/srv/data/aics/03-image-captioning/data/flickr...</td>\n",
       "    </tr>\n",
       "  </tbody>\n",
       "</table>\n",
       "</div>"
      ],
      "text/plain": [
       "                       image  \\\n",
       "0  1000268201_693b08cb0e.jpg   \n",
       "1  1000268201_693b08cb0e.jpg   \n",
       "2  1000268201_693b08cb0e.jpg   \n",
       "3  1000268201_693b08cb0e.jpg   \n",
       "4  1000268201_693b08cb0e.jpg   \n",
       "\n",
       "                                             caption  \\\n",
       "0  A child in a pink dress is climbing up a set o...   \n",
       "1              A girl going into a wooden building .   \n",
       "2   A little girl climbing into a wooden playhouse .   \n",
       "3  A little girl climbing the stairs to her playh...   \n",
       "4  A little girl in a pink dress going into a woo...   \n",
       "\n",
       "                                                path  \n",
       "0  /srv/data/aics/03-image-captioning/data/flickr...  \n",
       "1  /srv/data/aics/03-image-captioning/data/flickr...  \n",
       "2  /srv/data/aics/03-image-captioning/data/flickr...  \n",
       "3  /srv/data/aics/03-image-captioning/data/flickr...  \n",
       "4  /srv/data/aics/03-image-captioning/data/flickr...  "
      ]
     },
     "execution_count": 10,
     "metadata": {},
     "output_type": "execute_result"
    }
   ],
   "source": [
    "dataset.head()"
   ]
  },
  {
   "cell_type": "code",
   "execution_count": 11,
   "id": "ae3d3690-5f3d-4f1b-84d1-e532b1e68ff5",
   "metadata": {},
   "outputs": [],
   "source": [
    "dataset.to_csv('/srv/data/aics/03-image-captioning/data/flickr8k_preprocessed.csv', sep='\\t')"
   ]
  },
  {
   "cell_type": "code",
   "execution_count": null,
   "id": "df0c077d-d98f-43a9-ab32-69823c4da18b",
   "metadata": {},
   "outputs": [],
   "source": []
  }
 ],
 "metadata": {
  "kernelspec": {
   "display_name": "Python 3 (ipykernel)",
   "language": "python",
   "name": "python3"
  },
  "language_info": {
   "codemirror_mode": {
    "name": "ipython",
    "version": 3
   },
   "file_extension": ".py",
   "mimetype": "text/x-python",
   "name": "python",
   "nbconvert_exporter": "python",
   "pygments_lexer": "ipython3",
   "version": "3.9.6"
  }
 },
 "nbformat": 4,
 "nbformat_minor": 5
}
