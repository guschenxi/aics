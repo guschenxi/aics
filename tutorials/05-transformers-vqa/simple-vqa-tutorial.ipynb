{
  "nbformat": 4,
  "nbformat_minor": 0,
  "metadata": {
    "kernelspec": {
      "display_name": "Python 3",
      "language": "python",
      "name": "python3"
    },
    "language_info": {
      "codemirror_mode": {
        "name": "ipython",
        "version": 3
      },
      "file_extension": ".py",
      "mimetype": "text/x-python",
      "name": "python",
      "nbconvert_exporter": "python",
      "pygments_lexer": "ipython3",
      "version": "3.6.6"
    },
    "colab": {
      "name": "simple-vqa-tutorial.ipynb",
      "provenance": [],
      "toc_visible": true,
      "include_colab_link": true
    }
  },
  "cells": [
    {
      "cell_type": "markdown",
      "metadata": {
        "id": "view-in-github",
        "colab_type": "text"
      },
      "source": [
        "<a href=\"https://colab.research.google.com/github/sdobnik/aics/blob/master/tutorials/vqa/simple-vqa-tutorial.ipynb\" target=\"_parent\"><img src=\"https://colab.research.google.com/assets/colab-badge.svg\" alt=\"Open In Colab\"/></a>"
      ]
    },
    {
      "cell_type": "markdown",
      "metadata": {
        "id": "Z7jMraEwEcvn",
        "colab_type": "raw"
      },
      "source": [
        "This tutorial/handson session is designed based on the Visual Turing Test tutorial in here:\n",
        "https://github.com/mateuszmalinowski/visual_turing_test-tutorial\n",
        "Visual Turing Challenge\n",
        "Mateusz Malinowski and Mario Fritz\n",
        "Max-Plank Institute\n",
        "\n",
        "Mehdi Ghanimifard"
      ]
    },
    {
      "cell_type": "markdown",
      "metadata": {
        "id": "8cFMI5b8Ecvp",
        "colab_type": "text"
      },
      "source": [
        "# Tutorial on Simple Visual Question Answering "
      ]
    },
    {
      "cell_type": "markdown",
      "metadata": {
        "id": "LjFIaGtXEcvp",
        "colab_type": "text"
      },
      "source": [
        "### Understandin the challenge"
      ]
    },
    {
      "cell_type": "markdown",
      "metadata": {
        "id": "NKc-J3oOEcvq",
        "colab_type": "text"
      },
      "source": [
        "![](https://github.com/mateuszmalinowski/visual_turing_test-tutorial/raw/master/fig/challenges.jpg)"
      ]
    },
    {
      "cell_type": "markdown",
      "metadata": {
        "id": "hLoZ1f2fEcvr",
        "colab_type": "text"
      },
      "source": [
        "### Download DAQUAR dataset"
      ]
    },
    {
      "cell_type": "code",
      "metadata": {
        "id": "Y2BPy3q9Ecvr",
        "colab_type": "code",
        "colab": {
          "base_uri": "https://localhost:8080/",
          "height": 1000
        },
        "outputId": "5f77602f-faa8-494f-8fd9-f56e93cbbc93"
      },
      "source": [
        "! mkdir -p data/daquar\n",
        "! wget -P data/daquar/ https://raw.githubusercontent.com/mateuszmalinowski/visual_turing_test-tutorial/master/data/daquar/qa.894.raw.test.format_triple\n",
        "! wget -P data/daquar/ https://raw.githubusercontent.com/mateuszmalinowski/visual_turing_test-tutorial/master/data/daquar/qa.894.raw.train.format_triple\n",
        "! wget -P data/daquar/ http://datasets.d2.mpi-inf.mpg.de/mateusz14visual-turing/nyu_depth_images.tar\n",
        "! tar -xvf data/daquar/nyu_depth_images.tar -C data/daquar/\n",
        "! mv data/daquar/nyu_depth_images data/daquar/images "
      ],
      "execution_count": 1,
      "outputs": [
        {
          "output_type": "stream",
          "text": [
            "--2019-12-09 05:11:58--  https://raw.githubusercontent.com/mateuszmalinowski/visual_turing_test-tutorial/master/data/daquar/qa.894.raw.test.format_triple\n",
            "Resolving raw.githubusercontent.com (raw.githubusercontent.com)... 151.101.0.133, 151.101.64.133, 151.101.128.133, ...\n",
            "Connecting to raw.githubusercontent.com (raw.githubusercontent.com)|151.101.0.133|:443... connected.\n",
            "HTTP request sent, awaiting response... 200 OK\n",
            "Length: 311863 (305K) [text/plain]\n",
            "Saving to: ‘data/daquar/qa.894.raw.test.format_triple’\n",
            "\n",
            "qa.894.raw.test.for 100%[===================>] 304.55K  --.-KB/s    in 0.05s   \n",
            "\n",
            "2019-12-09 05:12:00 (6.05 MB/s) - ‘data/daquar/qa.894.raw.test.format_triple’ saved [311863/311863]\n",
            "\n",
            "--2019-12-09 05:12:02--  https://raw.githubusercontent.com/mateuszmalinowski/visual_turing_test-tutorial/master/data/daquar/qa.894.raw.train.format_triple\n",
            "Resolving raw.githubusercontent.com (raw.githubusercontent.com)... 151.101.0.133, 151.101.64.133, 151.101.128.133, ...\n",
            "Connecting to raw.githubusercontent.com (raw.githubusercontent.com)|151.101.0.133|:443... connected.\n",
            "HTTP request sent, awaiting response... 200 OK\n",
            "Length: 376483 (368K) [text/plain]\n",
            "Saving to: ‘data/daquar/qa.894.raw.train.format_triple’\n",
            "\n",
            "qa.894.raw.train.fo 100%[===================>] 367.66K  --.-KB/s    in 0.05s   \n",
            "\n",
            "2019-12-09 05:12:02 (7.13 MB/s) - ‘data/daquar/qa.894.raw.train.format_triple’ saved [376483/376483]\n",
            "\n",
            "--2019-12-09 05:12:03--  http://datasets.d2.mpi-inf.mpg.de/mateusz14visual-turing/nyu_depth_images.tar\n",
            "Resolving datasets.d2.mpi-inf.mpg.de (datasets.d2.mpi-inf.mpg.de)... 139.19.86.170\n",
            "Connecting to datasets.d2.mpi-inf.mpg.de (datasets.d2.mpi-inf.mpg.de)|139.19.86.170|:80... connected.\n",
            "HTTP request sent, awaiting response... 301 Moved Permanently\n",
            "Location: https://datasets.d2.mpi-inf.mpg.de/mateusz14visual-turing/nyu_depth_images.tar [following]\n",
            "--2019-12-09 05:12:04--  https://datasets.d2.mpi-inf.mpg.de/mateusz14visual-turing/nyu_depth_images.tar\n",
            "Connecting to datasets.d2.mpi-inf.mpg.de (datasets.d2.mpi-inf.mpg.de)|139.19.86.170|:443... connected.\n",
            "HTTP request sent, awaiting response... 200 OK\n",
            "Length: 431144960 (411M) [application/x-tar]\n",
            "Saving to: ‘data/daquar/nyu_depth_images.tar’\n",
            "\n",
            "nyu_depth_images.ta 100%[===================>] 411.17M  10.8MB/s    in 39s     \n",
            "\n",
            "2019-12-09 05:12:45 (10.4 MB/s) - ‘data/daquar/nyu_depth_images.tar’ saved [431144960/431144960]\n",
            "\n",
            "nyu_depth_images/\n",
            "nyu_depth_images/image1.png\n",
            "nyu_depth_images/image10.png\n",
            "nyu_depth_images/image100.png\n",
            "nyu_depth_images/image1000.png\n",
            "nyu_depth_images/image1001.png\n",
            "nyu_depth_images/image1002.png\n",
            "nyu_depth_images/image1003.png\n",
            "nyu_depth_images/image1004.png\n",
            "nyu_depth_images/image1005.png\n",
            "nyu_depth_images/image1006.png\n",
            "nyu_depth_images/image1007.png\n",
            "nyu_depth_images/image1008.png\n",
            "nyu_depth_images/image1009.png\n",
            "nyu_depth_images/image101.png\n",
            "nyu_depth_images/image1010.png\n",
            "nyu_depth_images/image1011.png\n",
            "nyu_depth_images/image1012.png\n",
            "nyu_depth_images/image1013.png\n",
            "nyu_depth_images/image1014.png\n",
            "nyu_depth_images/image1015.png\n",
            "nyu_depth_images/image1016.png\n",
            "nyu_depth_images/image1017.png\n",
            "nyu_depth_images/image1018.png\n",
            "nyu_depth_images/image1019.png\n",
            "nyu_depth_images/image102.png\n",
            "nyu_depth_images/image1020.png\n",
            "nyu_depth_images/image1021.png\n",
            "nyu_depth_images/image1022.png\n",
            "nyu_depth_images/image1023.png\n",
            "nyu_depth_images/image1024.png\n",
            "nyu_depth_images/image1025.png\n",
            "nyu_depth_images/image1026.png\n",
            "nyu_depth_images/image1027.png\n",
            "nyu_depth_images/image1028.png\n",
            "nyu_depth_images/image1029.png\n",
            "nyu_depth_images/image103.png\n",
            "nyu_depth_images/image1030.png\n",
            "nyu_depth_images/image1031.png\n",
            "nyu_depth_images/image1032.png\n",
            "nyu_depth_images/image1033.png\n",
            "nyu_depth_images/image1034.png\n",
            "nyu_depth_images/image1035.png\n",
            "nyu_depth_images/image1036.png\n",
            "nyu_depth_images/image1037.png\n",
            "nyu_depth_images/image1038.png\n",
            "nyu_depth_images/image1039.png\n",
            "nyu_depth_images/image104.png\n",
            "nyu_depth_images/image1040.png\n",
            "nyu_depth_images/image1041.png\n",
            "nyu_depth_images/image1042.png\n",
            "nyu_depth_images/image1043.png\n",
            "nyu_depth_images/image1044.png\n",
            "nyu_depth_images/image1045.png\n",
            "nyu_depth_images/image1046.png\n",
            "nyu_depth_images/image1047.png\n",
            "nyu_depth_images/image1048.png\n",
            "nyu_depth_images/image1049.png\n",
            "nyu_depth_images/image105.png\n",
            "nyu_depth_images/image1050.png\n",
            "nyu_depth_images/image1051.png\n",
            "nyu_depth_images/image1052.png\n",
            "nyu_depth_images/image1053.png\n",
            "nyu_depth_images/image1054.png\n",
            "nyu_depth_images/image1055.png\n",
            "nyu_depth_images/image1056.png\n",
            "nyu_depth_images/image1057.png\n",
            "nyu_depth_images/image1058.png\n",
            "nyu_depth_images/image1059.png\n",
            "nyu_depth_images/image106.png\n",
            "nyu_depth_images/image1060.png\n",
            "nyu_depth_images/image1061.png\n",
            "nyu_depth_images/image1062.png\n",
            "nyu_depth_images/image1063.png\n",
            "nyu_depth_images/image1064.png\n",
            "nyu_depth_images/image1065.png\n",
            "nyu_depth_images/image1066.png\n",
            "nyu_depth_images/image1067.png\n",
            "nyu_depth_images/image1068.png\n",
            "nyu_depth_images/image1069.png\n",
            "nyu_depth_images/image107.png\n",
            "nyu_depth_images/image1070.png\n",
            "nyu_depth_images/image1071.png\n",
            "nyu_depth_images/image1072.png\n",
            "nyu_depth_images/image1073.png\n",
            "nyu_depth_images/image1074.png\n",
            "nyu_depth_images/image1075.png\n",
            "nyu_depth_images/image1076.png\n",
            "nyu_depth_images/image1077.png\n",
            "nyu_depth_images/image1078.png\n",
            "nyu_depth_images/image1079.png\n",
            "nyu_depth_images/image108.png\n",
            "nyu_depth_images/image1080.png\n",
            "nyu_depth_images/image1081.png\n",
            "nyu_depth_images/image1082.png\n",
            "nyu_depth_images/image1083.png\n",
            "nyu_depth_images/image1084.png\n",
            "nyu_depth_images/image1085.png\n",
            "nyu_depth_images/image1086.png\n",
            "nyu_depth_images/image1087.png\n",
            "nyu_depth_images/image1088.png\n",
            "nyu_depth_images/image1089.png\n",
            "nyu_depth_images/image109.png\n",
            "nyu_depth_images/image1090.png\n",
            "nyu_depth_images/image1091.png\n",
            "nyu_depth_images/image1092.png\n",
            "nyu_depth_images/image1093.png\n",
            "nyu_depth_images/image1094.png\n",
            "nyu_depth_images/image1095.png\n",
            "nyu_depth_images/image1096.png\n",
            "nyu_depth_images/image1097.png\n",
            "nyu_depth_images/image1098.png\n",
            "nyu_depth_images/image1099.png\n",
            "nyu_depth_images/image11.png\n",
            "nyu_depth_images/image110.png\n",
            "nyu_depth_images/image1100.png\n",
            "nyu_depth_images/image1101.png\n",
            "nyu_depth_images/image1102.png\n",
            "nyu_depth_images/image1103.png\n",
            "nyu_depth_images/image1104.png\n",
            "nyu_depth_images/image1105.png\n",
            "nyu_depth_images/image1106.png\n",
            "nyu_depth_images/image1107.png\n",
            "nyu_depth_images/image1108.png\n",
            "nyu_depth_images/image1109.png\n",
            "nyu_depth_images/image111.png\n",
            "nyu_depth_images/image1110.png\n",
            "nyu_depth_images/image1111.png\n",
            "nyu_depth_images/image1112.png\n",
            "nyu_depth_images/image1113.png\n",
            "nyu_depth_images/image1114.png\n",
            "nyu_depth_images/image1115.png\n",
            "nyu_depth_images/image1116.png\n",
            "nyu_depth_images/image1117.png\n",
            "nyu_depth_images/image1118.png\n",
            "nyu_depth_images/image1119.png\n",
            "nyu_depth_images/image112.png\n",
            "nyu_depth_images/image1120.png\n",
            "nyu_depth_images/image1121.png\n",
            "nyu_depth_images/image1122.png\n",
            "nyu_depth_images/image1123.png\n",
            "nyu_depth_images/image1124.png\n",
            "nyu_depth_images/image1125.png\n",
            "nyu_depth_images/image1126.png\n",
            "nyu_depth_images/image1127.png\n",
            "nyu_depth_images/image1128.png\n",
            "nyu_depth_images/image1129.png\n",
            "nyu_depth_images/image113.png\n",
            "nyu_depth_images/image1130.png\n",
            "nyu_depth_images/image1131.png\n",
            "nyu_depth_images/image1132.png\n",
            "nyu_depth_images/image1133.png\n",
            "nyu_depth_images/image1134.png\n",
            "nyu_depth_images/image1135.png\n",
            "nyu_depth_images/image1136.png\n",
            "nyu_depth_images/image1137.png\n",
            "nyu_depth_images/image1138.png\n",
            "nyu_depth_images/image1139.png\n",
            "nyu_depth_images/image114.png\n",
            "nyu_depth_images/image1140.png\n",
            "nyu_depth_images/image1141.png\n",
            "nyu_depth_images/image1142.png\n",
            "nyu_depth_images/image1143.png\n",
            "nyu_depth_images/image1144.png\n",
            "nyu_depth_images/image1145.png\n",
            "nyu_depth_images/image1146.png\n",
            "nyu_depth_images/image1147.png\n",
            "nyu_depth_images/image1148.png\n",
            "nyu_depth_images/image1149.png\n",
            "nyu_depth_images/image115.png\n",
            "nyu_depth_images/image1150.png\n",
            "nyu_depth_images/image1151.png\n",
            "nyu_depth_images/image1152.png\n",
            "nyu_depth_images/image1153.png\n",
            "nyu_depth_images/image1154.png\n",
            "nyu_depth_images/image1155.png\n",
            "nyu_depth_images/image1156.png\n",
            "nyu_depth_images/image1157.png\n",
            "nyu_depth_images/image1158.png\n",
            "nyu_depth_images/image1159.png\n",
            "nyu_depth_images/image116.png\n",
            "nyu_depth_images/image1160.png\n",
            "nyu_depth_images/image1161.png\n",
            "nyu_depth_images/image1162.png\n",
            "nyu_depth_images/image1163.png\n",
            "nyu_depth_images/image1164.png\n",
            "nyu_depth_images/image1165.png\n",
            "nyu_depth_images/image1166.png\n",
            "nyu_depth_images/image1167.png\n",
            "nyu_depth_images/image1168.png\n",
            "nyu_depth_images/image1169.png\n",
            "nyu_depth_images/image117.png\n",
            "nyu_depth_images/image1170.png\n",
            "nyu_depth_images/image1171.png\n",
            "nyu_depth_images/image1172.png\n",
            "nyu_depth_images/image1173.png\n",
            "nyu_depth_images/image1174.png\n",
            "nyu_depth_images/image1175.png\n",
            "nyu_depth_images/image1176.png\n",
            "nyu_depth_images/image1177.png\n",
            "nyu_depth_images/image1178.png\n",
            "nyu_depth_images/image1179.png\n",
            "nyu_depth_images/image118.png\n",
            "nyu_depth_images/image1180.png\n",
            "nyu_depth_images/image1181.png\n",
            "nyu_depth_images/image1182.png\n",
            "nyu_depth_images/image1183.png\n",
            "nyu_depth_images/image1184.png\n",
            "nyu_depth_images/image1185.png\n",
            "nyu_depth_images/image1186.png\n",
            "nyu_depth_images/image1187.png\n",
            "nyu_depth_images/image1188.png\n",
            "nyu_depth_images/image1189.png\n",
            "nyu_depth_images/image119.png\n",
            "nyu_depth_images/image1190.png\n",
            "nyu_depth_images/image1191.png\n",
            "nyu_depth_images/image1192.png\n",
            "nyu_depth_images/image1193.png\n",
            "nyu_depth_images/image1194.png\n",
            "nyu_depth_images/image1195.png\n",
            "nyu_depth_images/image1196.png\n",
            "nyu_depth_images/image1197.png\n",
            "nyu_depth_images/image1198.png\n",
            "nyu_depth_images/image1199.png\n",
            "nyu_depth_images/image12.png\n",
            "nyu_depth_images/image120.png\n",
            "nyu_depth_images/image1200.png\n",
            "nyu_depth_images/image1201.png\n",
            "nyu_depth_images/image1202.png\n",
            "nyu_depth_images/image1203.png\n",
            "nyu_depth_images/image1204.png\n",
            "nyu_depth_images/image1205.png\n",
            "nyu_depth_images/image1206.png\n",
            "nyu_depth_images/image1207.png\n",
            "nyu_depth_images/image1208.png\n",
            "nyu_depth_images/image1209.png\n",
            "nyu_depth_images/image121.png\n",
            "nyu_depth_images/image1210.png\n",
            "nyu_depth_images/image1211.png\n",
            "nyu_depth_images/image1212.png\n",
            "nyu_depth_images/image1213.png\n",
            "nyu_depth_images/image1214.png\n",
            "nyu_depth_images/image1215.png\n",
            "nyu_depth_images/image1216.png\n",
            "nyu_depth_images/image1217.png\n",
            "nyu_depth_images/image1218.png\n",
            "nyu_depth_images/image1219.png\n",
            "nyu_depth_images/image122.png\n",
            "nyu_depth_images/image1220.png\n",
            "nyu_depth_images/image1221.png\n",
            "nyu_depth_images/image1222.png\n",
            "nyu_depth_images/image1223.png\n",
            "nyu_depth_images/image1224.png\n",
            "nyu_depth_images/image1225.png\n",
            "nyu_depth_images/image1226.png\n",
            "nyu_depth_images/image1227.png\n",
            "nyu_depth_images/image1228.png\n",
            "nyu_depth_images/image1229.png\n",
            "nyu_depth_images/image123.png\n",
            "nyu_depth_images/image1230.png\n",
            "nyu_depth_images/image1231.png\n",
            "nyu_depth_images/image1232.png\n",
            "nyu_depth_images/image1233.png\n",
            "nyu_depth_images/image1234.png\n",
            "nyu_depth_images/image1235.png\n",
            "nyu_depth_images/image1236.png\n",
            "nyu_depth_images/image1237.png\n",
            "nyu_depth_images/image1238.png\n",
            "nyu_depth_images/image1239.png\n",
            "nyu_depth_images/image124.png\n",
            "nyu_depth_images/image1240.png\n",
            "nyu_depth_images/image1241.png\n",
            "nyu_depth_images/image1242.png\n",
            "nyu_depth_images/image1243.png\n",
            "nyu_depth_images/image1244.png\n",
            "nyu_depth_images/image1245.png\n",
            "nyu_depth_images/image1246.png\n",
            "nyu_depth_images/image1247.png\n",
            "nyu_depth_images/image1248.png\n",
            "nyu_depth_images/image1249.png\n",
            "nyu_depth_images/image125.png\n",
            "nyu_depth_images/image1250.png\n",
            "nyu_depth_images/image1251.png\n",
            "nyu_depth_images/image1252.png\n",
            "nyu_depth_images/image1253.png\n",
            "nyu_depth_images/image1254.png\n",
            "nyu_depth_images/image1255.png\n",
            "nyu_depth_images/image1256.png\n",
            "nyu_depth_images/image1257.png\n",
            "nyu_depth_images/image1258.png\n",
            "nyu_depth_images/image1259.png\n",
            "nyu_depth_images/image126.png\n",
            "nyu_depth_images/image1260.png\n",
            "nyu_depth_images/image1261.png\n",
            "nyu_depth_images/image1262.png\n",
            "nyu_depth_images/image1263.png\n",
            "nyu_depth_images/image1264.png\n",
            "nyu_depth_images/image1265.png\n",
            "nyu_depth_images/image1266.png\n",
            "nyu_depth_images/image1267.png\n",
            "nyu_depth_images/image1268.png\n",
            "nyu_depth_images/image1269.png\n",
            "nyu_depth_images/image127.png\n",
            "nyu_depth_images/image1270.png\n",
            "nyu_depth_images/image1271.png\n",
            "nyu_depth_images/image1272.png\n",
            "nyu_depth_images/image1273.png\n",
            "nyu_depth_images/image1274.png\n",
            "nyu_depth_images/image1275.png\n",
            "nyu_depth_images/image1276.png\n",
            "nyu_depth_images/image1277.png\n",
            "nyu_depth_images/image1278.png\n",
            "nyu_depth_images/image1279.png\n",
            "nyu_depth_images/image128.png\n",
            "nyu_depth_images/image1280.png\n",
            "nyu_depth_images/image1281.png\n",
            "nyu_depth_images/image1282.png\n",
            "nyu_depth_images/image1283.png\n",
            "nyu_depth_images/image1284.png\n",
            "nyu_depth_images/image1285.png\n",
            "nyu_depth_images/image1286.png\n",
            "nyu_depth_images/image1287.png\n",
            "nyu_depth_images/image1288.png\n",
            "nyu_depth_images/image1289.png\n",
            "nyu_depth_images/image129.png\n",
            "nyu_depth_images/image1290.png\n",
            "nyu_depth_images/image1291.png\n",
            "nyu_depth_images/image1292.png\n",
            "nyu_depth_images/image1293.png\n",
            "nyu_depth_images/image1294.png\n",
            "nyu_depth_images/image1295.png\n",
            "nyu_depth_images/image1296.png\n",
            "nyu_depth_images/image1297.png\n",
            "nyu_depth_images/image1298.png\n",
            "nyu_depth_images/image1299.png\n",
            "nyu_depth_images/image13.png\n",
            "nyu_depth_images/image130.png\n",
            "nyu_depth_images/image1300.png\n",
            "nyu_depth_images/image1301.png\n",
            "nyu_depth_images/image1302.png\n",
            "nyu_depth_images/image1303.png\n",
            "nyu_depth_images/image1304.png\n",
            "nyu_depth_images/image1305.png\n",
            "nyu_depth_images/image1306.png\n",
            "nyu_depth_images/image1307.png\n",
            "nyu_depth_images/image1308.png\n",
            "nyu_depth_images/image1309.png\n",
            "nyu_depth_images/image131.png\n",
            "nyu_depth_images/image1310.png\n",
            "nyu_depth_images/image1311.png\n",
            "nyu_depth_images/image1312.png\n",
            "nyu_depth_images/image1313.png\n",
            "nyu_depth_images/image1314.png\n",
            "nyu_depth_images/image1315.png\n",
            "nyu_depth_images/image1316.png\n",
            "nyu_depth_images/image1317.png\n",
            "nyu_depth_images/image1318.png\n",
            "nyu_depth_images/image1319.png\n",
            "nyu_depth_images/image132.png\n",
            "nyu_depth_images/image1320.png\n",
            "nyu_depth_images/image1321.png\n",
            "nyu_depth_images/image1322.png\n",
            "nyu_depth_images/image1323.png\n",
            "nyu_depth_images/image1324.png\n",
            "nyu_depth_images/image1325.png\n",
            "nyu_depth_images/image1326.png\n",
            "nyu_depth_images/image1327.png\n",
            "nyu_depth_images/image1328.png\n",
            "nyu_depth_images/image1329.png\n",
            "nyu_depth_images/image133.png\n",
            "nyu_depth_images/image1330.png\n",
            "nyu_depth_images/image1331.png\n",
            "nyu_depth_images/image1332.png\n",
            "nyu_depth_images/image1333.png\n",
            "nyu_depth_images/image1334.png\n",
            "nyu_depth_images/image1335.png\n",
            "nyu_depth_images/image1336.png\n",
            "nyu_depth_images/image1337.png\n",
            "nyu_depth_images/image1338.png\n",
            "nyu_depth_images/image1339.png\n",
            "nyu_depth_images/image134.png\n",
            "nyu_depth_images/image1340.png\n",
            "nyu_depth_images/image1341.png\n",
            "nyu_depth_images/image1342.png\n",
            "nyu_depth_images/image1343.png\n",
            "nyu_depth_images/image1344.png\n",
            "nyu_depth_images/image1345.png\n",
            "nyu_depth_images/image1346.png\n",
            "nyu_depth_images/image1347.png\n",
            "nyu_depth_images/image1348.png\n",
            "nyu_depth_images/image1349.png\n",
            "nyu_depth_images/image135.png\n",
            "nyu_depth_images/image1350.png\n",
            "nyu_depth_images/image1351.png\n",
            "nyu_depth_images/image1352.png\n",
            "nyu_depth_images/image1353.png\n",
            "nyu_depth_images/image1354.png\n",
            "nyu_depth_images/image1355.png\n",
            "nyu_depth_images/image1356.png\n",
            "nyu_depth_images/image1357.png\n",
            "nyu_depth_images/image1358.png\n",
            "nyu_depth_images/image1359.png\n",
            "nyu_depth_images/image136.png\n",
            "nyu_depth_images/image1360.png\n",
            "nyu_depth_images/image1361.png\n",
            "nyu_depth_images/image1362.png\n",
            "nyu_depth_images/image1363.png\n",
            "nyu_depth_images/image1364.png\n",
            "nyu_depth_images/image1365.png\n",
            "nyu_depth_images/image1366.png\n",
            "nyu_depth_images/image1367.png\n",
            "nyu_depth_images/image1368.png\n",
            "nyu_depth_images/image1369.png\n",
            "nyu_depth_images/image137.png\n",
            "nyu_depth_images/image1370.png\n",
            "nyu_depth_images/image1371.png\n",
            "nyu_depth_images/image1372.png\n",
            "nyu_depth_images/image1373.png\n",
            "nyu_depth_images/image1374.png\n",
            "nyu_depth_images/image1375.png\n",
            "nyu_depth_images/image1376.png\n",
            "nyu_depth_images/image1377.png\n",
            "nyu_depth_images/image1378.png\n",
            "nyu_depth_images/image1379.png\n",
            "nyu_depth_images/image138.png\n",
            "nyu_depth_images/image1380.png\n",
            "nyu_depth_images/image1381.png\n",
            "nyu_depth_images/image1382.png\n",
            "nyu_depth_images/image1383.png\n",
            "nyu_depth_images/image1384.png\n",
            "nyu_depth_images/image1385.png\n",
            "nyu_depth_images/image1386.png\n",
            "nyu_depth_images/image1387.png\n",
            "nyu_depth_images/image1388.png\n",
            "nyu_depth_images/image1389.png\n",
            "nyu_depth_images/image139.png\n",
            "nyu_depth_images/image1390.png\n",
            "nyu_depth_images/image1391.png\n",
            "nyu_depth_images/image1392.png\n",
            "nyu_depth_images/image1393.png\n",
            "nyu_depth_images/image1394.png\n",
            "nyu_depth_images/image1395.png\n",
            "nyu_depth_images/image1396.png\n",
            "nyu_depth_images/image1397.png\n",
            "nyu_depth_images/image1398.png\n",
            "nyu_depth_images/image1399.png\n",
            "nyu_depth_images/image14.png\n",
            "nyu_depth_images/image140.png\n",
            "nyu_depth_images/image1400.png\n",
            "nyu_depth_images/image1401.png\n",
            "nyu_depth_images/image1402.png\n",
            "nyu_depth_images/image1403.png\n",
            "nyu_depth_images/image1404.png\n",
            "nyu_depth_images/image1405.png\n",
            "nyu_depth_images/image1406.png\n",
            "nyu_depth_images/image1407.png\n",
            "nyu_depth_images/image1408.png\n",
            "nyu_depth_images/image1409.png\n",
            "nyu_depth_images/image141.png\n",
            "nyu_depth_images/image1410.png\n",
            "nyu_depth_images/image1411.png\n",
            "nyu_depth_images/image1412.png\n",
            "nyu_depth_images/image1413.png\n",
            "nyu_depth_images/image1414.png\n",
            "nyu_depth_images/image1415.png\n",
            "nyu_depth_images/image1416.png\n",
            "nyu_depth_images/image1417.png\n",
            "nyu_depth_images/image1418.png\n",
            "nyu_depth_images/image1419.png\n",
            "nyu_depth_images/image142.png\n",
            "nyu_depth_images/image1420.png\n",
            "nyu_depth_images/image1421.png\n",
            "nyu_depth_images/image1422.png\n",
            "nyu_depth_images/image1423.png\n",
            "nyu_depth_images/image1424.png\n",
            "nyu_depth_images/image1425.png\n",
            "nyu_depth_images/image1426.png\n",
            "nyu_depth_images/image1427.png\n",
            "nyu_depth_images/image1428.png\n",
            "nyu_depth_images/image1429.png\n",
            "nyu_depth_images/image143.png\n",
            "nyu_depth_images/image1430.png\n",
            "nyu_depth_images/image1431.png\n",
            "nyu_depth_images/image1432.png\n",
            "nyu_depth_images/image1433.png\n",
            "nyu_depth_images/image1434.png\n",
            "nyu_depth_images/image1435.png\n",
            "nyu_depth_images/image1436.png\n",
            "nyu_depth_images/image1437.png\n",
            "nyu_depth_images/image1438.png\n",
            "nyu_depth_images/image1439.png\n",
            "nyu_depth_images/image144.png\n",
            "nyu_depth_images/image1440.png\n",
            "nyu_depth_images/image1441.png\n",
            "nyu_depth_images/image1442.png\n",
            "nyu_depth_images/image1443.png\n",
            "nyu_depth_images/image1444.png\n",
            "nyu_depth_images/image1445.png\n",
            "nyu_depth_images/image1446.png\n",
            "nyu_depth_images/image1447.png\n",
            "nyu_depth_images/image1448.png\n",
            "nyu_depth_images/image1449.png\n",
            "nyu_depth_images/image145.png\n",
            "nyu_depth_images/image146.png\n",
            "nyu_depth_images/image147.png\n",
            "nyu_depth_images/image148.png\n",
            "nyu_depth_images/image149.png\n",
            "nyu_depth_images/image15.png\n",
            "nyu_depth_images/image150.png\n",
            "nyu_depth_images/image151.png\n",
            "nyu_depth_images/image152.png\n",
            "nyu_depth_images/image153.png\n",
            "nyu_depth_images/image154.png\n",
            "nyu_depth_images/image155.png\n",
            "nyu_depth_images/image156.png\n",
            "nyu_depth_images/image157.png\n",
            "nyu_depth_images/image158.png\n",
            "nyu_depth_images/image159.png\n",
            "nyu_depth_images/image16.png\n",
            "nyu_depth_images/image160.png\n",
            "nyu_depth_images/image161.png\n",
            "nyu_depth_images/image162.png\n",
            "nyu_depth_images/image163.png\n",
            "nyu_depth_images/image164.png\n",
            "nyu_depth_images/image165.png\n",
            "nyu_depth_images/image166.png\n",
            "nyu_depth_images/image167.png\n",
            "nyu_depth_images/image168.png\n",
            "nyu_depth_images/image169.png\n",
            "nyu_depth_images/image17.png\n",
            "nyu_depth_images/image170.png\n",
            "nyu_depth_images/image171.png\n",
            "nyu_depth_images/image172.png\n",
            "nyu_depth_images/image173.png\n",
            "nyu_depth_images/image174.png\n",
            "nyu_depth_images/image175.png\n",
            "nyu_depth_images/image176.png\n",
            "nyu_depth_images/image177.png\n",
            "nyu_depth_images/image178.png\n",
            "nyu_depth_images/image179.png\n",
            "nyu_depth_images/image18.png\n",
            "nyu_depth_images/image180.png\n",
            "nyu_depth_images/image181.png\n",
            "nyu_depth_images/image182.png\n",
            "nyu_depth_images/image183.png\n",
            "nyu_depth_images/image184.png\n",
            "nyu_depth_images/image185.png\n",
            "nyu_depth_images/image186.png\n",
            "nyu_depth_images/image187.png\n",
            "nyu_depth_images/image188.png\n",
            "nyu_depth_images/image189.png\n",
            "nyu_depth_images/image19.png\n",
            "nyu_depth_images/image190.png\n",
            "nyu_depth_images/image191.png\n",
            "nyu_depth_images/image192.png\n",
            "nyu_depth_images/image193.png\n",
            "nyu_depth_images/image194.png\n",
            "nyu_depth_images/image195.png\n",
            "nyu_depth_images/image196.png\n",
            "nyu_depth_images/image197.png\n",
            "nyu_depth_images/image198.png\n",
            "nyu_depth_images/image199.png\n",
            "nyu_depth_images/image2.png\n",
            "nyu_depth_images/image20.png\n",
            "nyu_depth_images/image200.png\n",
            "nyu_depth_images/image201.png\n",
            "nyu_depth_images/image202.png\n",
            "nyu_depth_images/image203.png\n",
            "nyu_depth_images/image204.png\n",
            "nyu_depth_images/image205.png\n",
            "nyu_depth_images/image206.png\n",
            "nyu_depth_images/image207.png\n",
            "nyu_depth_images/image208.png\n",
            "nyu_depth_images/image209.png\n",
            "nyu_depth_images/image21.png\n",
            "nyu_depth_images/image210.png\n",
            "nyu_depth_images/image211.png\n",
            "nyu_depth_images/image212.png\n",
            "nyu_depth_images/image213.png\n",
            "nyu_depth_images/image214.png\n",
            "nyu_depth_images/image215.png\n",
            "nyu_depth_images/image216.png\n",
            "nyu_depth_images/image217.png\n",
            "nyu_depth_images/image218.png\n",
            "nyu_depth_images/image219.png\n",
            "nyu_depth_images/image22.png\n",
            "nyu_depth_images/image220.png\n",
            "nyu_depth_images/image221.png\n",
            "nyu_depth_images/image222.png\n",
            "nyu_depth_images/image223.png\n",
            "nyu_depth_images/image224.png\n",
            "nyu_depth_images/image225.png\n",
            "nyu_depth_images/image226.png\n",
            "nyu_depth_images/image227.png\n",
            "nyu_depth_images/image228.png\n",
            "nyu_depth_images/image229.png\n",
            "nyu_depth_images/image23.png\n",
            "nyu_depth_images/image230.png\n",
            "nyu_depth_images/image231.png\n",
            "nyu_depth_images/image232.png\n",
            "nyu_depth_images/image233.png\n",
            "nyu_depth_images/image234.png\n",
            "nyu_depth_images/image235.png\n",
            "nyu_depth_images/image236.png\n",
            "nyu_depth_images/image237.png\n",
            "nyu_depth_images/image238.png\n",
            "nyu_depth_images/image239.png\n",
            "nyu_depth_images/image24.png\n",
            "nyu_depth_images/image240.png\n",
            "nyu_depth_images/image241.png\n",
            "nyu_depth_images/image242.png\n",
            "nyu_depth_images/image243.png\n",
            "nyu_depth_images/image244.png\n",
            "nyu_depth_images/image245.png\n",
            "nyu_depth_images/image246.png\n",
            "nyu_depth_images/image247.png\n",
            "nyu_depth_images/image248.png\n",
            "nyu_depth_images/image249.png\n",
            "nyu_depth_images/image25.png\n",
            "nyu_depth_images/image250.png\n",
            "nyu_depth_images/image251.png\n",
            "nyu_depth_images/image252.png\n",
            "nyu_depth_images/image253.png\n",
            "nyu_depth_images/image254.png\n",
            "nyu_depth_images/image255.png\n",
            "nyu_depth_images/image256.png\n",
            "nyu_depth_images/image257.png\n",
            "nyu_depth_images/image258.png\n",
            "nyu_depth_images/image259.png\n",
            "nyu_depth_images/image26.png\n",
            "nyu_depth_images/image260.png\n",
            "nyu_depth_images/image261.png\n",
            "nyu_depth_images/image262.png\n",
            "nyu_depth_images/image263.png\n",
            "nyu_depth_images/image264.png\n",
            "nyu_depth_images/image265.png\n",
            "nyu_depth_images/image266.png\n",
            "nyu_depth_images/image267.png\n",
            "nyu_depth_images/image268.png\n",
            "nyu_depth_images/image269.png\n",
            "nyu_depth_images/image27.png\n",
            "nyu_depth_images/image270.png\n",
            "nyu_depth_images/image271.png\n",
            "nyu_depth_images/image272.png\n",
            "nyu_depth_images/image273.png\n",
            "nyu_depth_images/image274.png\n",
            "nyu_depth_images/image275.png\n",
            "nyu_depth_images/image276.png\n",
            "nyu_depth_images/image277.png\n",
            "nyu_depth_images/image278.png\n",
            "nyu_depth_images/image279.png\n",
            "nyu_depth_images/image28.png\n",
            "nyu_depth_images/image280.png\n",
            "nyu_depth_images/image281.png\n",
            "nyu_depth_images/image282.png\n",
            "nyu_depth_images/image283.png\n",
            "nyu_depth_images/image284.png\n",
            "nyu_depth_images/image285.png\n",
            "nyu_depth_images/image286.png\n",
            "nyu_depth_images/image287.png\n",
            "nyu_depth_images/image288.png\n",
            "nyu_depth_images/image289.png\n",
            "nyu_depth_images/image29.png\n",
            "nyu_depth_images/image290.png\n",
            "nyu_depth_images/image291.png\n",
            "nyu_depth_images/image292.png\n",
            "nyu_depth_images/image293.png\n",
            "nyu_depth_images/image294.png\n",
            "nyu_depth_images/image295.png\n",
            "nyu_depth_images/image296.png\n",
            "nyu_depth_images/image297.png\n",
            "nyu_depth_images/image298.png\n",
            "nyu_depth_images/image299.png\n",
            "nyu_depth_images/image3.png\n",
            "nyu_depth_images/image30.png\n",
            "nyu_depth_images/image300.png\n",
            "nyu_depth_images/image301.png\n",
            "nyu_depth_images/image302.png\n",
            "nyu_depth_images/image303.png\n",
            "nyu_depth_images/image304.png\n",
            "nyu_depth_images/image305.png\n",
            "nyu_depth_images/image306.png\n",
            "nyu_depth_images/image307.png\n",
            "nyu_depth_images/image308.png\n",
            "nyu_depth_images/image309.png\n",
            "nyu_depth_images/image31.png\n",
            "nyu_depth_images/image310.png\n",
            "nyu_depth_images/image311.png\n",
            "nyu_depth_images/image312.png\n",
            "nyu_depth_images/image313.png\n",
            "nyu_depth_images/image314.png\n",
            "nyu_depth_images/image315.png\n",
            "nyu_depth_images/image316.png\n",
            "nyu_depth_images/image317.png\n",
            "nyu_depth_images/image318.png\n",
            "nyu_depth_images/image319.png\n",
            "nyu_depth_images/image32.png\n",
            "nyu_depth_images/image320.png\n",
            "nyu_depth_images/image321.png\n",
            "nyu_depth_images/image322.png\n",
            "nyu_depth_images/image323.png\n",
            "nyu_depth_images/image324.png\n",
            "nyu_depth_images/image325.png\n",
            "nyu_depth_images/image326.png\n",
            "nyu_depth_images/image327.png\n",
            "nyu_depth_images/image328.png\n",
            "nyu_depth_images/image329.png\n",
            "nyu_depth_images/image33.png\n",
            "nyu_depth_images/image330.png\n",
            "nyu_depth_images/image331.png\n",
            "nyu_depth_images/image332.png\n",
            "nyu_depth_images/image333.png\n",
            "nyu_depth_images/image334.png\n",
            "nyu_depth_images/image335.png\n",
            "nyu_depth_images/image336.png\n",
            "nyu_depth_images/image337.png\n",
            "nyu_depth_images/image338.png\n",
            "nyu_depth_images/image339.png\n",
            "nyu_depth_images/image34.png\n",
            "nyu_depth_images/image340.png\n",
            "nyu_depth_images/image341.png\n",
            "nyu_depth_images/image342.png\n",
            "nyu_depth_images/image343.png\n",
            "nyu_depth_images/image344.png\n",
            "nyu_depth_images/image345.png\n",
            "nyu_depth_images/image346.png\n",
            "nyu_depth_images/image347.png\n",
            "nyu_depth_images/image348.png\n",
            "nyu_depth_images/image349.png\n",
            "nyu_depth_images/image35.png\n",
            "nyu_depth_images/image350.png\n",
            "nyu_depth_images/image351.png\n",
            "nyu_depth_images/image352.png\n",
            "nyu_depth_images/image353.png\n",
            "nyu_depth_images/image354.png\n",
            "nyu_depth_images/image355.png\n",
            "nyu_depth_images/image356.png\n",
            "nyu_depth_images/image357.png\n",
            "nyu_depth_images/image358.png\n",
            "nyu_depth_images/image359.png\n",
            "nyu_depth_images/image36.png\n",
            "nyu_depth_images/image360.png\n",
            "nyu_depth_images/image361.png\n",
            "nyu_depth_images/image362.png\n",
            "nyu_depth_images/image363.png\n",
            "nyu_depth_images/image364.png\n",
            "nyu_depth_images/image365.png\n",
            "nyu_depth_images/image366.png\n",
            "nyu_depth_images/image367.png\n",
            "nyu_depth_images/image368.png\n",
            "nyu_depth_images/image369.png\n",
            "nyu_depth_images/image37.png\n",
            "nyu_depth_images/image370.png\n",
            "nyu_depth_images/image371.png\n",
            "nyu_depth_images/image372.png\n",
            "nyu_depth_images/image373.png\n",
            "nyu_depth_images/image374.png\n",
            "nyu_depth_images/image375.png\n",
            "nyu_depth_images/image376.png\n",
            "nyu_depth_images/image377.png\n",
            "nyu_depth_images/image378.png\n",
            "nyu_depth_images/image379.png\n",
            "nyu_depth_images/image38.png\n",
            "nyu_depth_images/image380.png\n",
            "nyu_depth_images/image381.png\n",
            "nyu_depth_images/image382.png\n",
            "nyu_depth_images/image383.png\n",
            "nyu_depth_images/image384.png\n",
            "nyu_depth_images/image385.png\n",
            "nyu_depth_images/image386.png\n",
            "nyu_depth_images/image387.png\n",
            "nyu_depth_images/image388.png\n",
            "nyu_depth_images/image389.png\n",
            "nyu_depth_images/image39.png\n",
            "nyu_depth_images/image390.png\n",
            "nyu_depth_images/image391.png\n",
            "nyu_depth_images/image392.png\n",
            "nyu_depth_images/image393.png\n",
            "nyu_depth_images/image394.png\n",
            "nyu_depth_images/image395.png\n",
            "nyu_depth_images/image396.png\n",
            "nyu_depth_images/image397.png\n",
            "nyu_depth_images/image398.png\n",
            "nyu_depth_images/image399.png\n",
            "nyu_depth_images/image4.png\n",
            "nyu_depth_images/image40.png\n",
            "nyu_depth_images/image400.png\n",
            "nyu_depth_images/image401.png\n",
            "nyu_depth_images/image402.png\n",
            "nyu_depth_images/image403.png\n",
            "nyu_depth_images/image404.png\n",
            "nyu_depth_images/image405.png\n",
            "nyu_depth_images/image406.png\n",
            "nyu_depth_images/image407.png\n",
            "nyu_depth_images/image408.png\n",
            "nyu_depth_images/image409.png\n",
            "nyu_depth_images/image41.png\n",
            "nyu_depth_images/image410.png\n",
            "nyu_depth_images/image411.png\n",
            "nyu_depth_images/image412.png\n",
            "nyu_depth_images/image413.png\n",
            "nyu_depth_images/image414.png\n",
            "nyu_depth_images/image415.png\n",
            "nyu_depth_images/image416.png\n",
            "nyu_depth_images/image417.png\n",
            "nyu_depth_images/image418.png\n",
            "nyu_depth_images/image419.png\n",
            "nyu_depth_images/image42.png\n",
            "nyu_depth_images/image420.png\n",
            "nyu_depth_images/image421.png\n",
            "nyu_depth_images/image422.png\n",
            "nyu_depth_images/image423.png\n",
            "nyu_depth_images/image424.png\n",
            "nyu_depth_images/image425.png\n",
            "nyu_depth_images/image426.png\n",
            "nyu_depth_images/image427.png\n",
            "nyu_depth_images/image428.png\n",
            "nyu_depth_images/image429.png\n",
            "nyu_depth_images/image43.png\n",
            "nyu_depth_images/image430.png\n",
            "nyu_depth_images/image431.png\n",
            "nyu_depth_images/image432.png\n",
            "nyu_depth_images/image433.png\n",
            "nyu_depth_images/image434.png\n",
            "nyu_depth_images/image435.png\n",
            "nyu_depth_images/image436.png\n",
            "nyu_depth_images/image437.png\n",
            "nyu_depth_images/image438.png\n",
            "nyu_depth_images/image439.png\n",
            "nyu_depth_images/image44.png\n",
            "nyu_depth_images/image440.png\n",
            "nyu_depth_images/image441.png\n",
            "nyu_depth_images/image442.png\n",
            "nyu_depth_images/image443.png\n",
            "nyu_depth_images/image444.png\n",
            "nyu_depth_images/image445.png\n",
            "nyu_depth_images/image446.png\n",
            "nyu_depth_images/image447.png\n",
            "nyu_depth_images/image448.png\n",
            "nyu_depth_images/image449.png\n",
            "nyu_depth_images/image45.png\n",
            "nyu_depth_images/image450.png\n",
            "nyu_depth_images/image451.png\n",
            "nyu_depth_images/image452.png\n",
            "nyu_depth_images/image453.png\n",
            "nyu_depth_images/image454.png\n",
            "nyu_depth_images/image455.png\n",
            "nyu_depth_images/image456.png\n",
            "nyu_depth_images/image457.png\n",
            "nyu_depth_images/image458.png\n",
            "nyu_depth_images/image459.png\n",
            "nyu_depth_images/image46.png\n",
            "nyu_depth_images/image460.png\n",
            "nyu_depth_images/image461.png\n",
            "nyu_depth_images/image462.png\n",
            "nyu_depth_images/image463.png\n",
            "nyu_depth_images/image464.png\n",
            "nyu_depth_images/image465.png\n",
            "nyu_depth_images/image466.png\n",
            "nyu_depth_images/image467.png\n",
            "nyu_depth_images/image468.png\n",
            "nyu_depth_images/image469.png\n",
            "nyu_depth_images/image47.png\n",
            "nyu_depth_images/image470.png\n",
            "nyu_depth_images/image471.png\n",
            "nyu_depth_images/image472.png\n",
            "nyu_depth_images/image473.png\n",
            "nyu_depth_images/image474.png\n",
            "nyu_depth_images/image475.png\n",
            "nyu_depth_images/image476.png\n",
            "nyu_depth_images/image477.png\n",
            "nyu_depth_images/image478.png\n",
            "nyu_depth_images/image479.png\n",
            "nyu_depth_images/image48.png\n",
            "nyu_depth_images/image480.png\n",
            "nyu_depth_images/image481.png\n",
            "nyu_depth_images/image482.png\n",
            "nyu_depth_images/image483.png\n",
            "nyu_depth_images/image484.png\n",
            "nyu_depth_images/image485.png\n",
            "nyu_depth_images/image486.png\n",
            "nyu_depth_images/image487.png\n",
            "nyu_depth_images/image488.png\n",
            "nyu_depth_images/image489.png\n",
            "nyu_depth_images/image49.png\n",
            "nyu_depth_images/image490.png\n",
            "nyu_depth_images/image491.png\n",
            "nyu_depth_images/image492.png\n",
            "nyu_depth_images/image493.png\n",
            "nyu_depth_images/image494.png\n",
            "nyu_depth_images/image495.png\n",
            "nyu_depth_images/image496.png\n",
            "nyu_depth_images/image497.png\n",
            "nyu_depth_images/image498.png\n",
            "nyu_depth_images/image499.png\n",
            "nyu_depth_images/image5.png\n",
            "nyu_depth_images/image50.png\n",
            "nyu_depth_images/image500.png\n",
            "nyu_depth_images/image501.png\n",
            "nyu_depth_images/image502.png\n",
            "nyu_depth_images/image503.png\n",
            "nyu_depth_images/image504.png\n",
            "nyu_depth_images/image505.png\n",
            "nyu_depth_images/image506.png\n",
            "nyu_depth_images/image507.png\n",
            "nyu_depth_images/image508.png\n",
            "nyu_depth_images/image509.png\n",
            "nyu_depth_images/image51.png\n",
            "nyu_depth_images/image510.png\n",
            "nyu_depth_images/image511.png\n",
            "nyu_depth_images/image512.png\n",
            "nyu_depth_images/image513.png\n",
            "nyu_depth_images/image514.png\n",
            "nyu_depth_images/image515.png\n",
            "nyu_depth_images/image516.png\n",
            "nyu_depth_images/image517.png\n",
            "nyu_depth_images/image518.png\n",
            "nyu_depth_images/image519.png\n",
            "nyu_depth_images/image52.png\n",
            "nyu_depth_images/image520.png\n",
            "nyu_depth_images/image521.png\n",
            "nyu_depth_images/image522.png\n",
            "nyu_depth_images/image523.png\n",
            "nyu_depth_images/image524.png\n",
            "nyu_depth_images/image525.png\n",
            "nyu_depth_images/image526.png\n",
            "nyu_depth_images/image527.png\n",
            "nyu_depth_images/image528.png\n",
            "nyu_depth_images/image529.png\n",
            "nyu_depth_images/image53.png\n",
            "nyu_depth_images/image530.png\n",
            "nyu_depth_images/image531.png\n",
            "nyu_depth_images/image532.png\n",
            "nyu_depth_images/image533.png\n",
            "nyu_depth_images/image534.png\n",
            "nyu_depth_images/image535.png\n",
            "nyu_depth_images/image536.png\n",
            "nyu_depth_images/image537.png\n",
            "nyu_depth_images/image538.png\n",
            "nyu_depth_images/image539.png\n",
            "nyu_depth_images/image54.png\n",
            "nyu_depth_images/image540.png\n",
            "nyu_depth_images/image541.png\n",
            "nyu_depth_images/image542.png\n",
            "nyu_depth_images/image543.png\n",
            "nyu_depth_images/image544.png\n",
            "nyu_depth_images/image545.png\n",
            "nyu_depth_images/image546.png\n",
            "nyu_depth_images/image547.png\n",
            "nyu_depth_images/image548.png\n",
            "nyu_depth_images/image549.png\n",
            "nyu_depth_images/image55.png\n",
            "nyu_depth_images/image550.png\n",
            "nyu_depth_images/image551.png\n",
            "nyu_depth_images/image552.png\n",
            "nyu_depth_images/image553.png\n",
            "nyu_depth_images/image554.png\n",
            "nyu_depth_images/image555.png\n",
            "nyu_depth_images/image556.png\n",
            "nyu_depth_images/image557.png\n",
            "nyu_depth_images/image558.png\n",
            "nyu_depth_images/image559.png\n",
            "nyu_depth_images/image56.png\n",
            "nyu_depth_images/image560.png\n",
            "nyu_depth_images/image561.png\n",
            "nyu_depth_images/image562.png\n",
            "nyu_depth_images/image563.png\n",
            "nyu_depth_images/image564.png\n",
            "nyu_depth_images/image565.png\n",
            "nyu_depth_images/image566.png\n",
            "nyu_depth_images/image567.png\n",
            "nyu_depth_images/image568.png\n",
            "nyu_depth_images/image569.png\n",
            "nyu_depth_images/image57.png\n",
            "nyu_depth_images/image570.png\n",
            "nyu_depth_images/image571.png\n",
            "nyu_depth_images/image572.png\n",
            "nyu_depth_images/image573.png\n",
            "nyu_depth_images/image574.png\n",
            "nyu_depth_images/image575.png\n",
            "nyu_depth_images/image576.png\n",
            "nyu_depth_images/image577.png\n",
            "nyu_depth_images/image578.png\n",
            "nyu_depth_images/image579.png\n",
            "nyu_depth_images/image58.png\n",
            "nyu_depth_images/image580.png\n",
            "nyu_depth_images/image581.png\n",
            "nyu_depth_images/image582.png\n",
            "nyu_depth_images/image583.png\n",
            "nyu_depth_images/image584.png\n",
            "nyu_depth_images/image585.png\n",
            "nyu_depth_images/image586.png\n",
            "nyu_depth_images/image587.png\n",
            "nyu_depth_images/image588.png\n",
            "nyu_depth_images/image589.png\n",
            "nyu_depth_images/image59.png\n",
            "nyu_depth_images/image590.png\n",
            "nyu_depth_images/image591.png\n",
            "nyu_depth_images/image592.png\n",
            "nyu_depth_images/image593.png\n",
            "nyu_depth_images/image594.png\n",
            "nyu_depth_images/image595.png\n",
            "nyu_depth_images/image596.png\n",
            "nyu_depth_images/image597.png\n",
            "nyu_depth_images/image598.png\n",
            "nyu_depth_images/image599.png\n",
            "nyu_depth_images/image6.png\n",
            "nyu_depth_images/image60.png\n",
            "nyu_depth_images/image600.png\n",
            "nyu_depth_images/image601.png\n",
            "nyu_depth_images/image602.png\n",
            "nyu_depth_images/image603.png\n",
            "nyu_depth_images/image604.png\n",
            "nyu_depth_images/image605.png\n",
            "nyu_depth_images/image606.png\n",
            "nyu_depth_images/image607.png\n",
            "nyu_depth_images/image608.png\n",
            "nyu_depth_images/image609.png\n",
            "nyu_depth_images/image61.png\n",
            "nyu_depth_images/image610.png\n",
            "nyu_depth_images/image611.png\n",
            "nyu_depth_images/image612.png\n",
            "nyu_depth_images/image613.png\n",
            "nyu_depth_images/image614.png\n",
            "nyu_depth_images/image615.png\n",
            "nyu_depth_images/image616.png\n",
            "nyu_depth_images/image617.png\n",
            "nyu_depth_images/image618.png\n",
            "nyu_depth_images/image619.png\n",
            "nyu_depth_images/image62.png\n",
            "nyu_depth_images/image620.png\n",
            "nyu_depth_images/image621.png\n",
            "nyu_depth_images/image622.png\n",
            "nyu_depth_images/image623.png\n",
            "nyu_depth_images/image624.png\n",
            "nyu_depth_images/image625.png\n",
            "nyu_depth_images/image626.png\n",
            "nyu_depth_images/image627.png\n",
            "nyu_depth_images/image628.png\n",
            "nyu_depth_images/image629.png\n",
            "nyu_depth_images/image63.png\n",
            "nyu_depth_images/image630.png\n",
            "nyu_depth_images/image631.png\n",
            "nyu_depth_images/image632.png\n",
            "nyu_depth_images/image633.png\n",
            "nyu_depth_images/image634.png\n",
            "nyu_depth_images/image635.png\n",
            "nyu_depth_images/image636.png\n",
            "nyu_depth_images/image637.png\n",
            "nyu_depth_images/image638.png\n",
            "nyu_depth_images/image639.png\n",
            "nyu_depth_images/image64.png\n",
            "nyu_depth_images/image640.png\n",
            "nyu_depth_images/image641.png\n",
            "nyu_depth_images/image642.png\n",
            "nyu_depth_images/image643.png\n",
            "nyu_depth_images/image644.png\n",
            "nyu_depth_images/image645.png\n",
            "nyu_depth_images/image646.png\n",
            "nyu_depth_images/image647.png\n",
            "nyu_depth_images/image648.png\n",
            "nyu_depth_images/image649.png\n",
            "nyu_depth_images/image65.png\n",
            "nyu_depth_images/image650.png\n",
            "nyu_depth_images/image651.png\n",
            "nyu_depth_images/image652.png\n",
            "nyu_depth_images/image653.png\n",
            "nyu_depth_images/image654.png\n",
            "nyu_depth_images/image655.png\n",
            "nyu_depth_images/image656.png\n",
            "nyu_depth_images/image657.png\n",
            "nyu_depth_images/image658.png\n",
            "nyu_depth_images/image659.png\n",
            "nyu_depth_images/image66.png\n",
            "nyu_depth_images/image660.png\n",
            "nyu_depth_images/image661.png\n",
            "nyu_depth_images/image662.png\n",
            "nyu_depth_images/image663.png\n",
            "nyu_depth_images/image664.png\n",
            "nyu_depth_images/image665.png\n",
            "nyu_depth_images/image666.png\n",
            "nyu_depth_images/image667.png\n",
            "nyu_depth_images/image668.png\n",
            "nyu_depth_images/image669.png\n",
            "nyu_depth_images/image67.png\n",
            "nyu_depth_images/image670.png\n",
            "nyu_depth_images/image671.png\n",
            "nyu_depth_images/image672.png\n",
            "nyu_depth_images/image673.png\n",
            "nyu_depth_images/image674.png\n",
            "nyu_depth_images/image675.png\n",
            "nyu_depth_images/image676.png\n",
            "nyu_depth_images/image677.png\n",
            "nyu_depth_images/image678.png\n",
            "nyu_depth_images/image679.png\n",
            "nyu_depth_images/image68.png\n",
            "nyu_depth_images/image680.png\n",
            "nyu_depth_images/image681.png\n",
            "nyu_depth_images/image682.png\n",
            "nyu_depth_images/image683.png\n",
            "nyu_depth_images/image684.png\n",
            "nyu_depth_images/image685.png\n",
            "nyu_depth_images/image686.png\n",
            "nyu_depth_images/image687.png\n",
            "nyu_depth_images/image688.png\n",
            "nyu_depth_images/image689.png\n",
            "nyu_depth_images/image69.png\n",
            "nyu_depth_images/image690.png\n",
            "nyu_depth_images/image691.png\n",
            "nyu_depth_images/image692.png\n",
            "nyu_depth_images/image693.png\n",
            "nyu_depth_images/image694.png\n",
            "nyu_depth_images/image695.png\n",
            "nyu_depth_images/image696.png\n",
            "nyu_depth_images/image697.png\n",
            "nyu_depth_images/image698.png\n",
            "nyu_depth_images/image699.png\n",
            "nyu_depth_images/image7.png\n",
            "nyu_depth_images/image70.png\n",
            "nyu_depth_images/image700.png\n",
            "nyu_depth_images/image701.png\n",
            "nyu_depth_images/image702.png\n",
            "nyu_depth_images/image703.png\n",
            "nyu_depth_images/image704.png\n",
            "nyu_depth_images/image705.png\n",
            "nyu_depth_images/image706.png\n",
            "nyu_depth_images/image707.png\n",
            "nyu_depth_images/image708.png\n",
            "nyu_depth_images/image709.png\n",
            "nyu_depth_images/image71.png\n",
            "nyu_depth_images/image710.png\n",
            "nyu_depth_images/image711.png\n",
            "nyu_depth_images/image712.png\n",
            "nyu_depth_images/image713.png\n",
            "nyu_depth_images/image714.png\n",
            "nyu_depth_images/image715.png\n",
            "nyu_depth_images/image716.png\n",
            "nyu_depth_images/image717.png\n",
            "nyu_depth_images/image718.png\n",
            "nyu_depth_images/image719.png\n",
            "nyu_depth_images/image72.png\n",
            "nyu_depth_images/image720.png\n",
            "nyu_depth_images/image721.png\n",
            "nyu_depth_images/image722.png\n",
            "nyu_depth_images/image723.png\n",
            "nyu_depth_images/image724.png\n",
            "nyu_depth_images/image725.png\n",
            "nyu_depth_images/image726.png\n",
            "nyu_depth_images/image727.png\n",
            "nyu_depth_images/image728.png\n",
            "nyu_depth_images/image729.png\n",
            "nyu_depth_images/image73.png\n",
            "nyu_depth_images/image730.png\n",
            "nyu_depth_images/image731.png\n",
            "nyu_depth_images/image732.png\n",
            "nyu_depth_images/image733.png\n",
            "nyu_depth_images/image734.png\n",
            "nyu_depth_images/image735.png\n",
            "nyu_depth_images/image736.png\n",
            "nyu_depth_images/image737.png\n",
            "nyu_depth_images/image738.png\n",
            "nyu_depth_images/image739.png\n",
            "nyu_depth_images/image74.png\n",
            "nyu_depth_images/image740.png\n",
            "nyu_depth_images/image741.png\n",
            "nyu_depth_images/image742.png\n",
            "nyu_depth_images/image743.png\n",
            "nyu_depth_images/image744.png\n",
            "nyu_depth_images/image745.png\n",
            "nyu_depth_images/image746.png\n",
            "nyu_depth_images/image747.png\n",
            "nyu_depth_images/image748.png\n",
            "nyu_depth_images/image749.png\n",
            "nyu_depth_images/image75.png\n",
            "nyu_depth_images/image750.png\n",
            "nyu_depth_images/image751.png\n",
            "nyu_depth_images/image752.png\n",
            "nyu_depth_images/image753.png\n",
            "nyu_depth_images/image754.png\n",
            "nyu_depth_images/image755.png\n",
            "nyu_depth_images/image756.png\n",
            "nyu_depth_images/image757.png\n",
            "nyu_depth_images/image758.png\n",
            "nyu_depth_images/image759.png\n",
            "nyu_depth_images/image76.png\n",
            "nyu_depth_images/image760.png\n",
            "nyu_depth_images/image761.png\n",
            "nyu_depth_images/image762.png\n",
            "nyu_depth_images/image763.png\n",
            "nyu_depth_images/image764.png\n",
            "nyu_depth_images/image765.png\n",
            "nyu_depth_images/image766.png\n",
            "nyu_depth_images/image767.png\n",
            "nyu_depth_images/image768.png\n",
            "nyu_depth_images/image769.png\n",
            "nyu_depth_images/image77.png\n",
            "nyu_depth_images/image770.png\n",
            "nyu_depth_images/image771.png\n",
            "nyu_depth_images/image772.png\n",
            "nyu_depth_images/image773.png\n",
            "nyu_depth_images/image774.png\n",
            "nyu_depth_images/image775.png\n",
            "nyu_depth_images/image776.png\n",
            "nyu_depth_images/image777.png\n",
            "nyu_depth_images/image778.png\n",
            "nyu_depth_images/image779.png\n",
            "nyu_depth_images/image78.png\n",
            "nyu_depth_images/image780.png\n",
            "nyu_depth_images/image781.png\n",
            "nyu_depth_images/image782.png\n",
            "nyu_depth_images/image783.png\n",
            "nyu_depth_images/image784.png\n",
            "nyu_depth_images/image785.png\n",
            "nyu_depth_images/image786.png\n",
            "nyu_depth_images/image787.png\n",
            "nyu_depth_images/image788.png\n",
            "nyu_depth_images/image789.png\n",
            "nyu_depth_images/image79.png\n",
            "nyu_depth_images/image790.png\n",
            "nyu_depth_images/image791.png\n",
            "nyu_depth_images/image792.png\n",
            "nyu_depth_images/image793.png\n",
            "nyu_depth_images/image794.png\n",
            "nyu_depth_images/image795.png\n",
            "nyu_depth_images/image796.png\n",
            "nyu_depth_images/image797.png\n",
            "nyu_depth_images/image798.png\n",
            "nyu_depth_images/image799.png\n",
            "nyu_depth_images/image8.png\n",
            "nyu_depth_images/image80.png\n",
            "nyu_depth_images/image800.png\n",
            "nyu_depth_images/image801.png\n",
            "nyu_depth_images/image802.png\n",
            "nyu_depth_images/image803.png\n",
            "nyu_depth_images/image804.png\n",
            "nyu_depth_images/image805.png\n",
            "nyu_depth_images/image806.png\n",
            "nyu_depth_images/image807.png\n",
            "nyu_depth_images/image808.png\n",
            "nyu_depth_images/image809.png\n",
            "nyu_depth_images/image81.png\n",
            "nyu_depth_images/image810.png\n",
            "nyu_depth_images/image811.png\n",
            "nyu_depth_images/image812.png\n",
            "nyu_depth_images/image813.png\n",
            "nyu_depth_images/image814.png\n",
            "nyu_depth_images/image815.png\n",
            "nyu_depth_images/image816.png\n",
            "nyu_depth_images/image817.png\n",
            "nyu_depth_images/image818.png\n",
            "nyu_depth_images/image819.png\n",
            "nyu_depth_images/image82.png\n",
            "nyu_depth_images/image820.png\n",
            "nyu_depth_images/image821.png\n",
            "nyu_depth_images/image822.png\n",
            "nyu_depth_images/image823.png\n",
            "nyu_depth_images/image824.png\n",
            "nyu_depth_images/image825.png\n",
            "nyu_depth_images/image826.png\n",
            "nyu_depth_images/image827.png\n",
            "nyu_depth_images/image828.png\n",
            "nyu_depth_images/image829.png\n",
            "nyu_depth_images/image83.png\n",
            "nyu_depth_images/image830.png\n",
            "nyu_depth_images/image831.png\n",
            "nyu_depth_images/image832.png\n",
            "nyu_depth_images/image833.png\n",
            "nyu_depth_images/image834.png\n",
            "nyu_depth_images/image835.png\n",
            "nyu_depth_images/image836.png\n",
            "nyu_depth_images/image837.png\n",
            "nyu_depth_images/image838.png\n",
            "nyu_depth_images/image839.png\n",
            "nyu_depth_images/image84.png\n",
            "nyu_depth_images/image840.png\n",
            "nyu_depth_images/image841.png\n",
            "nyu_depth_images/image842.png\n",
            "nyu_depth_images/image843.png\n",
            "nyu_depth_images/image844.png\n",
            "nyu_depth_images/image845.png\n",
            "nyu_depth_images/image846.png\n",
            "nyu_depth_images/image847.png\n",
            "nyu_depth_images/image848.png\n",
            "nyu_depth_images/image849.png\n",
            "nyu_depth_images/image85.png\n",
            "nyu_depth_images/image850.png\n",
            "nyu_depth_images/image851.png\n",
            "nyu_depth_images/image852.png\n",
            "nyu_depth_images/image853.png\n",
            "nyu_depth_images/image854.png\n",
            "nyu_depth_images/image855.png\n",
            "nyu_depth_images/image856.png\n",
            "nyu_depth_images/image857.png\n",
            "nyu_depth_images/image858.png\n",
            "nyu_depth_images/image859.png\n",
            "nyu_depth_images/image86.png\n",
            "nyu_depth_images/image860.png\n",
            "nyu_depth_images/image861.png\n",
            "nyu_depth_images/image862.png\n",
            "nyu_depth_images/image863.png\n",
            "nyu_depth_images/image864.png\n",
            "nyu_depth_images/image865.png\n",
            "nyu_depth_images/image866.png\n",
            "nyu_depth_images/image867.png\n",
            "nyu_depth_images/image868.png\n",
            "nyu_depth_images/image869.png\n",
            "nyu_depth_images/image87.png\n",
            "nyu_depth_images/image870.png\n",
            "nyu_depth_images/image871.png\n",
            "nyu_depth_images/image872.png\n",
            "nyu_depth_images/image873.png\n",
            "nyu_depth_images/image874.png\n",
            "nyu_depth_images/image875.png\n",
            "nyu_depth_images/image876.png\n",
            "nyu_depth_images/image877.png\n",
            "nyu_depth_images/image878.png\n",
            "nyu_depth_images/image879.png\n",
            "nyu_depth_images/image88.png\n",
            "nyu_depth_images/image880.png\n",
            "nyu_depth_images/image881.png\n",
            "nyu_depth_images/image882.png\n",
            "nyu_depth_images/image883.png\n",
            "nyu_depth_images/image884.png\n",
            "nyu_depth_images/image885.png\n",
            "nyu_depth_images/image886.png\n",
            "nyu_depth_images/image887.png\n",
            "nyu_depth_images/image888.png\n",
            "nyu_depth_images/image889.png\n",
            "nyu_depth_images/image89.png\n",
            "nyu_depth_images/image890.png\n",
            "nyu_depth_images/image891.png\n",
            "nyu_depth_images/image892.png\n",
            "nyu_depth_images/image893.png\n",
            "nyu_depth_images/image894.png\n",
            "nyu_depth_images/image895.png\n",
            "nyu_depth_images/image896.png\n",
            "nyu_depth_images/image897.png\n",
            "nyu_depth_images/image898.png\n",
            "nyu_depth_images/image899.png\n",
            "nyu_depth_images/image9.png\n",
            "nyu_depth_images/image90.png\n",
            "nyu_depth_images/image900.png\n",
            "nyu_depth_images/image901.png\n",
            "nyu_depth_images/image902.png\n",
            "nyu_depth_images/image903.png\n",
            "nyu_depth_images/image904.png\n",
            "nyu_depth_images/image905.png\n",
            "nyu_depth_images/image906.png\n",
            "nyu_depth_images/image907.png\n",
            "nyu_depth_images/image908.png\n",
            "nyu_depth_images/image909.png\n",
            "nyu_depth_images/image91.png\n",
            "nyu_depth_images/image910.png\n",
            "nyu_depth_images/image911.png\n",
            "nyu_depth_images/image912.png\n",
            "nyu_depth_images/image913.png\n",
            "nyu_depth_images/image914.png\n",
            "nyu_depth_images/image915.png\n",
            "nyu_depth_images/image916.png\n",
            "nyu_depth_images/image917.png\n",
            "nyu_depth_images/image918.png\n",
            "nyu_depth_images/image919.png\n",
            "nyu_depth_images/image92.png\n",
            "nyu_depth_images/image920.png\n",
            "nyu_depth_images/image921.png\n",
            "nyu_depth_images/image922.png\n",
            "nyu_depth_images/image923.png\n",
            "nyu_depth_images/image924.png\n",
            "nyu_depth_images/image925.png\n",
            "nyu_depth_images/image926.png\n",
            "nyu_depth_images/image927.png\n",
            "nyu_depth_images/image928.png\n",
            "nyu_depth_images/image929.png\n",
            "nyu_depth_images/image93.png\n",
            "nyu_depth_images/image930.png\n",
            "nyu_depth_images/image931.png\n",
            "nyu_depth_images/image932.png\n",
            "nyu_depth_images/image933.png\n",
            "nyu_depth_images/image934.png\n",
            "nyu_depth_images/image935.png\n",
            "nyu_depth_images/image936.png\n",
            "nyu_depth_images/image937.png\n",
            "nyu_depth_images/image938.png\n",
            "nyu_depth_images/image939.png\n",
            "nyu_depth_images/image94.png\n",
            "nyu_depth_images/image940.png\n",
            "nyu_depth_images/image941.png\n",
            "nyu_depth_images/image942.png\n",
            "nyu_depth_images/image943.png\n",
            "nyu_depth_images/image944.png\n",
            "nyu_depth_images/image945.png\n",
            "nyu_depth_images/image946.png\n",
            "nyu_depth_images/image947.png\n",
            "nyu_depth_images/image948.png\n",
            "nyu_depth_images/image949.png\n",
            "nyu_depth_images/image95.png\n",
            "nyu_depth_images/image950.png\n",
            "nyu_depth_images/image951.png\n",
            "nyu_depth_images/image952.png\n",
            "nyu_depth_images/image953.png\n",
            "nyu_depth_images/image954.png\n",
            "nyu_depth_images/image955.png\n",
            "nyu_depth_images/image956.png\n",
            "nyu_depth_images/image957.png\n",
            "nyu_depth_images/image958.png\n",
            "nyu_depth_images/image959.png\n",
            "nyu_depth_images/image96.png\n",
            "nyu_depth_images/image960.png\n",
            "nyu_depth_images/image961.png\n",
            "nyu_depth_images/image962.png\n",
            "nyu_depth_images/image963.png\n",
            "nyu_depth_images/image964.png\n",
            "nyu_depth_images/image965.png\n",
            "nyu_depth_images/image966.png\n",
            "nyu_depth_images/image967.png\n",
            "nyu_depth_images/image968.png\n",
            "nyu_depth_images/image969.png\n",
            "nyu_depth_images/image97.png\n",
            "nyu_depth_images/image970.png\n",
            "nyu_depth_images/image971.png\n",
            "nyu_depth_images/image972.png\n",
            "nyu_depth_images/image973.png\n",
            "nyu_depth_images/image974.png\n",
            "nyu_depth_images/image975.png\n",
            "nyu_depth_images/image976.png\n",
            "nyu_depth_images/image977.png\n",
            "nyu_depth_images/image978.png\n",
            "nyu_depth_images/image979.png\n",
            "nyu_depth_images/image98.png\n",
            "nyu_depth_images/image980.png\n",
            "nyu_depth_images/image981.png\n",
            "nyu_depth_images/image982.png\n",
            "nyu_depth_images/image983.png\n",
            "nyu_depth_images/image984.png\n",
            "nyu_depth_images/image985.png\n",
            "nyu_depth_images/image986.png\n",
            "nyu_depth_images/image987.png\n",
            "nyu_depth_images/image988.png\n",
            "nyu_depth_images/image989.png\n",
            "nyu_depth_images/image99.png\n",
            "nyu_depth_images/image990.png\n",
            "nyu_depth_images/image991.png\n",
            "nyu_depth_images/image992.png\n",
            "nyu_depth_images/image993.png\n",
            "nyu_depth_images/image994.png\n",
            "nyu_depth_images/image995.png\n",
            "nyu_depth_images/image996.png\n",
            "nyu_depth_images/image997.png\n",
            "nyu_depth_images/image998.png\n",
            "nyu_depth_images/image999.png\n"
          ],
          "name": "stdout"
        }
      ]
    },
    {
      "cell_type": "markdown",
      "metadata": {
        "id": "xo5LsEx2Ecvz",
        "colab_type": "text"
      },
      "source": [
        "### Understand the data"
      ]
    },
    {
      "cell_type": "markdown",
      "metadata": {
        "id": "8Q4PtIb4Ecvz",
        "colab_type": "text"
      },
      "source": [
        "We can read parts of the training file to see how questions and answers are prepared in the corpus:"
      ]
    },
    {
      "cell_type": "code",
      "metadata": {
        "id": "KgRqH2fKEcv0",
        "colab_type": "code",
        "colab": {
          "base_uri": "https://localhost:8080/",
          "height": 272
        },
        "outputId": "9a130e62-abc5-4316-fe7e-730b4280a090"
      },
      "source": [
        "! head -15 data/daquar/qa.894.raw.train.format_triple "
      ],
      "execution_count": 4,
      "outputs": [
        {
          "output_type": "stream",
          "text": [
            "what is on the right side of the black telephone and on the left side of the red chair ?\n",
            "desk\n",
            "image3\n",
            "what is in front of the white door on the left side of the desk ?\n",
            "telephone\n",
            "image3\n",
            "what is on the desk ?\n",
            "book, scissor, papers, tape_dispenser\n",
            "image3\n",
            "what is the largest brown objects ?\n",
            "carton\n",
            "image3\n",
            "what color is the chair in front of the white wall ?\n",
            "red\n",
            "image3\n"
          ],
          "name": "stdout"
        }
      ]
    },
    {
      "cell_type": "code",
      "metadata": {
        "id": "y9mxcXwsGPrA",
        "colab_type": "code",
        "colab": {
          "base_uri": "https://localhost:8080/",
          "height": 34
        },
        "outputId": "3d4cc0d4-6a92-49da-b62d-f331bc6d7616"
      },
      "source": [
        "! ls /content/data/daquar/images/image1.png"
      ],
      "execution_count": 10,
      "outputs": [
        {
          "output_type": "stream",
          "text": [
            "/content/data/daquar/images/image1.png\n"
          ],
          "name": "stdout"
        }
      ]
    },
    {
      "cell_type": "markdown",
      "metadata": {
        "id": "ERqGguX-Ecv2",
        "colab_type": "text"
      },
      "source": [
        "You can see the image in jupyter notebook using Markdown as following:\n",
        "\n",
        "`![](data/daquar/images/image3.png)`"
      ]
    },
    {
      "cell_type": "markdown",
      "metadata": {
        "id": "Q66df_DuEcv2",
        "colab_type": "text"
      },
      "source": [
        "![text](https://github.com/sdobnik/aics/blob/master/tutorials/vqa/data/daquar/images/image1.png?raw=1)"
      ]
    },
    {
      "cell_type": "markdown",
      "metadata": {
        "collapsed": true,
        "id": "X0Z6flrYEcv3",
        "colab_type": "text"
      },
      "source": [
        "## Pre-trained visual features"
      ]
    },
    {
      "cell_type": "markdown",
      "metadata": {
        "id": "Cl7bPtecEcv3",
        "colab_type": "text"
      },
      "source": [
        "The idea is that invariant visual features for classification task represents images for other tasks. A pre-trained CNN for ImangeNet task can be used: \n",
        "\n",
        "![](https://raw.githubusercontent.com/mateuszmalinowski/visual_turing_test-tutorial/master/fig/features_extractor.jpg)\n"
      ]
    },
    {
      "cell_type": "markdown",
      "metadata": {
        "id": "f_aWEvBUEcv4",
        "colab_type": "text"
      },
      "source": [
        "In order to produce visual features for a given image, we take the output of a layer in convolutional neural networks (CNN) before the final classificatino layer. "
      ]
    },
    {
      "cell_type": "code",
      "metadata": {
        "id": "Az8nOteiEcv5",
        "colab_type": "code",
        "colab": {
          "base_uri": "https://localhost:8080/",
          "height": 97
        },
        "outputId": "e1df804f-dc2a-4b0e-e991-7d0216d18317"
      },
      "source": [
        "#import os\n",
        "#os.environ[\"CUDA_DEVICE_ORDER\"]= \"PCI_BUS_ID\"\n",
        "#os.environ[\"CUDA_VISIBLE_DEVICES\"]= \"0\"\n",
        "\n",
        "import numpy as np\n",
        "from keras.applications.resnet50 import ResNet50, preprocess_input\n",
        "from keras.preprocessing import image as kimage"
      ],
      "execution_count": 11,
      "outputs": [
        {
          "output_type": "stream",
          "text": [
            "Using TensorFlow backend.\n"
          ],
          "name": "stderr"
        },
        {
          "output_type": "display_data",
          "data": {
            "text/html": [
              "<p style=\"color: red;\">\n",
              "The default version of TensorFlow in Colab will soon switch to TensorFlow 2.x.<br>\n",
              "We recommend you <a href=\"https://www.tensorflow.org/guide/migrate\" target=\"_blank\">upgrade</a> now \n",
              "or ensure your notebook will continue to use TensorFlow 1.x via the <code>%tensorflow_version 1.x</code> magic:\n",
              "<a href=\"https://colab.research.google.com/notebooks/tensorflow_version.ipynb\" target=\"_blank\">more info</a>.</p>\n"
            ],
            "text/plain": [
              "<IPython.core.display.HTML object>"
            ]
          },
          "metadata": {
            "tags": []
          }
        }
      ]
    },
    {
      "cell_type": "code",
      "metadata": {
        "id": "Gpx_YnDYEcv6",
        "colab_type": "code",
        "colab": {}
      },
      "source": [
        "%matplotlib inline\n",
        "from matplotlib import pyplot as plt"
      ],
      "execution_count": 0,
      "outputs": []
    },
    {
      "cell_type": "code",
      "metadata": {
        "id": "MwFOY5vxEcv8",
        "colab_type": "code",
        "colab": {
          "base_uri": "https://localhost:8080/",
          "height": 513
        },
        "outputId": "94e323ba-2771-4017-fd79-d829554290d4"
      },
      "source": [
        "# If you are running this for the first time in this machine, keras will download the pre-trained weights.\n",
        "pretrained_cnn_model = ResNet50(weights='imagenet', include_top=False)"
      ],
      "execution_count": 13,
      "outputs": [
        {
          "output_type": "stream",
          "text": [
            "WARNING:tensorflow:From /usr/local/lib/python3.6/dist-packages/keras/backend/tensorflow_backend.py:66: The name tf.get_default_graph is deprecated. Please use tf.compat.v1.get_default_graph instead.\n",
            "\n",
            "WARNING:tensorflow:From /usr/local/lib/python3.6/dist-packages/keras/backend/tensorflow_backend.py:541: The name tf.placeholder is deprecated. Please use tf.compat.v1.placeholder instead.\n",
            "\n",
            "WARNING:tensorflow:From /usr/local/lib/python3.6/dist-packages/keras/backend/tensorflow_backend.py:4479: The name tf.truncated_normal is deprecated. Please use tf.random.truncated_normal instead.\n",
            "\n",
            "WARNING:tensorflow:From /usr/local/lib/python3.6/dist-packages/keras/backend/tensorflow_backend.py:190: The name tf.get_default_session is deprecated. Please use tf.compat.v1.get_default_session instead.\n",
            "\n",
            "WARNING:tensorflow:From /usr/local/lib/python3.6/dist-packages/keras/backend/tensorflow_backend.py:197: The name tf.ConfigProto is deprecated. Please use tf.compat.v1.ConfigProto instead.\n",
            "\n",
            "WARNING:tensorflow:From /usr/local/lib/python3.6/dist-packages/keras/backend/tensorflow_backend.py:203: The name tf.Session is deprecated. Please use tf.compat.v1.Session instead.\n",
            "\n",
            "WARNING:tensorflow:From /usr/local/lib/python3.6/dist-packages/keras/backend/tensorflow_backend.py:207: The name tf.global_variables is deprecated. Please use tf.compat.v1.global_variables instead.\n",
            "\n",
            "WARNING:tensorflow:From /usr/local/lib/python3.6/dist-packages/keras/backend/tensorflow_backend.py:216: The name tf.is_variable_initialized is deprecated. Please use tf.compat.v1.is_variable_initialized instead.\n",
            "\n",
            "WARNING:tensorflow:From /usr/local/lib/python3.6/dist-packages/keras/backend/tensorflow_backend.py:223: The name tf.variables_initializer is deprecated. Please use tf.compat.v1.variables_initializer instead.\n",
            "\n",
            "WARNING:tensorflow:From /usr/local/lib/python3.6/dist-packages/keras/backend/tensorflow_backend.py:2041: The name tf.nn.fused_batch_norm is deprecated. Please use tf.compat.v1.nn.fused_batch_norm instead.\n",
            "\n",
            "WARNING:tensorflow:From /usr/local/lib/python3.6/dist-packages/keras/backend/tensorflow_backend.py:148: The name tf.placeholder_with_default is deprecated. Please use tf.compat.v1.placeholder_with_default instead.\n",
            "\n",
            "WARNING:tensorflow:From /usr/local/lib/python3.6/dist-packages/keras/backend/tensorflow_backend.py:4267: The name tf.nn.max_pool is deprecated. Please use tf.nn.max_pool2d instead.\n",
            "\n"
          ],
          "name": "stdout"
        },
        {
          "output_type": "stream",
          "text": [
            "/usr/local/lib/python3.6/dist-packages/keras_applications/resnet50.py:265: UserWarning: The output shape of `ResNet50(include_top=False)` has been changed since Keras 2.2.0.\n",
            "  warnings.warn('The output shape of `ResNet50(include_top=False)` '\n"
          ],
          "name": "stderr"
        },
        {
          "output_type": "stream",
          "text": [
            "Downloading data from https://github.com/fchollet/deep-learning-models/releases/download/v0.2/resnet50_weights_tf_dim_ordering_tf_kernels_notop.h5\n",
            "94658560/94653016 [==============================] - 7s 0us/step\n"
          ],
          "name": "stdout"
        }
      ]
    },
    {
      "cell_type": "code",
      "metadata": {
        "scrolled": true,
        "id": "P8O8wJjDEcv-",
        "colab_type": "code",
        "colab": {}
      },
      "source": [
        "#pretrained_cnn_model.summary()"
      ],
      "execution_count": 0,
      "outputs": []
    },
    {
      "cell_type": "markdown",
      "metadata": {
        "id": "8wrGCiYrEcv_",
        "colab_type": "text"
      },
      "source": [
        "Notice that the output must be in shape `[batch_size, width, height, features]` but since the last layer is the result of a global spatial average pooling the `width` and `hight` will be equal to 1: "
      ]
    },
    {
      "cell_type": "code",
      "metadata": {
        "id": "JEaKX6MGEcwA",
        "colab_type": "code",
        "colab": {
          "base_uri": "https://localhost:8080/",
          "height": 34
        },
        "outputId": "1f5bd21e-11e0-4ee2-b82c-ddfbccb638be"
      },
      "source": [
        "pretrained_cnn_model.output.shape"
      ],
      "execution_count": 16,
      "outputs": [
        {
          "output_type": "execute_result",
          "data": {
            "text/plain": [
              "TensorShape([Dimension(None), Dimension(None), Dimension(None), Dimension(2048)])"
            ]
          },
          "metadata": {
            "tags": []
          },
          "execution_count": 16
        }
      ]
    },
    {
      "cell_type": "markdown",
      "metadata": {
        "id": "KMdZ2UgjEcwG",
        "colab_type": "text"
      },
      "source": [
        "For example, the image `image3.png` can be processed with this model:"
      ]
    },
    {
      "cell_type": "code",
      "metadata": {
        "id": "0hyEYJLFEcwG",
        "colab_type": "code",
        "colab": {}
      },
      "source": [
        "# first we read the image from file and resize it to the ImageNet size\n",
        "image3 = kimage.load_img(\"data/daquar/images/image3.png\", target_size=[224,224])\n",
        "\n",
        "# we have to convert it to numpy array:\n",
        "image3_array = kimage.img_to_array(image3)\n",
        "\n",
        "# the neural network is designed to process a batch of images as input.\n",
        "# so, need to make it as an array of images:\n",
        "images_array = np.array([\n",
        "    image3_array,\n",
        "])\n",
        "\n",
        "# At this point we suppose that image is prepared as an RGB formated array\n",
        "# with integer values of 0-255 for each color code.\n",
        "# we should make sure that the format is matching input format of the pre-trained network.\n",
        "# (in this case, the following code makes convernt RGB to BGR)\n",
        "images_ready = preprocess_input(images_array)"
      ],
      "execution_count": 0,
      "outputs": []
    },
    {
      "cell_type": "code",
      "metadata": {
        "id": "2SlvvwKpEcwI",
        "colab_type": "code",
        "colab": {
          "base_uri": "https://localhost:8080/",
          "height": 241
        },
        "outputId": "a5aa126a-8b86-41b8-f01c-c10158e6c8bd"
      },
      "source": [
        "image3"
      ],
      "execution_count": 18,
      "outputs": [
        {
          "output_type": "execute_result",
          "data": {
            "image/png": "[encoded data removed]",
            "text/plain": [
              "<PIL.Image.Image image mode=RGB size=224x224 at 0x7FC35AF13550>"
            ]
          },
          "metadata": {
            "tags": []
          },
          "execution_count": 18
        }
      ]
    },
    {
      "cell_type": "markdown",
      "metadata": {
        "id": "_PjvXaHPEcwK",
        "colab_type": "text"
      },
      "source": [
        "Now, we can the pre-processed image use the CNN model to produce visual features:"
      ]
    },
    {
      "cell_type": "code",
      "metadata": {
        "id": "R0K3rE95EcwK",
        "colab_type": "code",
        "colab": {
          "base_uri": "https://localhost:8080/",
          "height": 85
        },
        "outputId": "328f4176-d539-4588-84a2-4cffe250f981"
      },
      "source": [
        "vfearues = pretrained_cnn_model.predict(images_ready)\n",
        "print('the output shape:', vfearues.shape)\n",
        "image3_features = vfearues[0].flatten()\n",
        "\n",
        "print('     dtype:', image3_features.dtype)\n",
        "print(' dimension:', image3_features.shape[0])\n",
        "print('the vector:', image3_features)\n"
      ],
      "execution_count": 19,
      "outputs": [
        {
          "output_type": "stream",
          "text": [
            "the output shape: (1, 7, 7, 2048)\n",
            "     dtype: float32\n",
            " dimension: 100352\n",
            "the vector: [0.      0.      0.      ... 0.      3.58495 0.     ]\n"
          ],
          "name": "stdout"
        }
      ]
    },
    {
      "cell_type": "code",
      "metadata": {
        "id": "TTAHb-weEcwM",
        "colab_type": "code",
        "colab": {}
      },
      "source": [
        "# we can make this into a function (from file path to feature vectors)\n",
        "# this is function doesn't have an ideal performance but it would be useful for the sake of this tutorial\n",
        "def img2vec(image_path):\n",
        "    x = kimage.load_img(image_path, target_size=[224,224])\n",
        "    x_array = kimage.img_to_array(x)\n",
        "    xs_array = np.array([x_array,])\n",
        "    # notice that we are not using full capacity of the GPU when we are passing only one image per prediction.\n",
        "    # we could have a larger batch.\n",
        "    return pretrained_cnn_model.predict(preprocess_input(xs_array)).flatten()\n"
      ],
      "execution_count": 0,
      "outputs": []
    },
    {
      "cell_type": "markdown",
      "metadata": {
        "id": "9yqWriuPEcwN",
        "colab_type": "text"
      },
      "source": [
        "## A Vision and Language Network"
      ]
    },
    {
      "cell_type": "markdown",
      "metadata": {
        "id": "ZSowKDZTEcwO",
        "colab_type": "text"
      },
      "source": [
        "### Understand this neural network model"
      ]
    },
    {
      "cell_type": "markdown",
      "metadata": {
        "id": "XKIYjePwEcwO",
        "colab_type": "text"
      },
      "source": [
        "In this tutorial, we want to build a neural net function, with inputs being a question and its context picture and the output being a single word answer:"
      ]
    },
    {
      "cell_type": "markdown",
      "metadata": {
        "id": "t_eq3MUqEcwP",
        "colab_type": "text"
      },
      "source": [
        "![](https://github.com/mateuszmalinowski/visual_turing_test-tutorial/raw/master/fig/LSTM_vision_model.jpg)"
      ]
    },
    {
      "cell_type": "markdown",
      "metadata": {
        "id": "kV0hXoubEcwP",
        "colab_type": "text"
      },
      "source": [
        "### Preprocess and prepare the data"
      ]
    },
    {
      "cell_type": "markdown",
      "metadata": {
        "id": "CX29JnicEcwQ",
        "colab_type": "text"
      },
      "source": [
        "The goal is to first prepare the text for processing. Also apply techniques for dealing with out-of-vocabulary (OOV) words, e.g. adding `<unk>` for rare words and `<num>` for numbers. "
      ]
    },
    {
      "cell_type": "markdown",
      "metadata": {
        "id": "_YPoNAU2EcwQ",
        "colab_type": "text"
      },
      "source": [
        "*** (1) Build the vocabulary, (2) Remove punctuation, and (3) mask numbers from text if it's needed***"
      ]
    },
    {
      "cell_type": "code",
      "metadata": {
        "id": "fyCW2-1eEcwR",
        "colab_type": "code",
        "colab": {}
      },
      "source": [
        "# You can skip this part and use the prepared files in next step"
      ],
      "execution_count": 0,
      "outputs": []
    },
    {
      "cell_type": "code",
      "metadata": {
        "id": "RMXs4yFREcwT",
        "colab_type": "code",
        "colab": {}
      },
      "source": [
        "import string\n",
        "from collections import Counter, defaultdict \n",
        "\n",
        "def preprocess_triple_file(filepath):\n",
        "    # useful metadata:\n",
        "    # vocabulary, longest_sentence_length\n",
        "    \n",
        "    # vocabulary for each file\n",
        "    metadata = {\n",
        "        'questions': {'vocab': Counter(), 'max_len': 0},\n",
        "        'answers': {'vocab': Counter(), 'max_len': 0},\n",
        "        'contexts': {'vocab': Counter(), 'max_len': 0},\n",
        "    }\n",
        "    \n",
        "    \n",
        "    # split the file into three parallel text files:\n",
        "    files = {\n",
        "        'questions': open(filepath+'.questions', 'w'),\n",
        "        'answers'  : open(filepath+'.answers', 'w'),\n",
        "        'contexts' : open(filepath+'.contexts', 'w'),\n",
        "    }\n",
        "    \n",
        "    def process(s, mask_numbers=True, metadata=None):\n",
        "        word_sequence = [w.strip().rstrip(string.punctuation) for w in s.split()]\n",
        "        \n",
        "        ### Mask numbers here ###\n",
        "        #def is_number(s):\n",
        "        #    try:\n",
        "        #        float(s)\n",
        "        #        return True\n",
        "        #    except ValueError:\n",
        "        #        return False\n",
        "        #\n",
        "        #if mask_numbers:\n",
        "        #    word_sequence = ['<num>' if mask_numbers and is_number(w) else w for w in word_sequence]\n",
        "\n",
        "        metadata['vocab'].update(word_sequence)\n",
        "        metadata['max_len'] = max(len(word_sequence), metadata['max_len'])\n",
        "\n",
        "        return ' '.join(word_sequence)\n",
        "    \n",
        "    \n",
        "    # stateful reading of the file, each line changes the states as follwing:\n",
        "    # question => answer => context => question\n",
        "    state = 'questions'\n",
        "    for line in open(filepath, encoding='utf-8'):\n",
        "        files[state].write(process(line, metadata=metadata[state])+'\\n')\n",
        "        \n",
        "        if state == 'questions':\n",
        "            state = 'answers'\n",
        "        elif state == 'answers':\n",
        "            state = 'contexts'\n",
        "        elif state == 'contexts':\n",
        "            state = 'questions'\n",
        "        \n",
        "    for state in files:\n",
        "        files[state].close()\n",
        "\n",
        "    np.save(filepath+'.metadata.npy', metadata)\n",
        "    return None\n",
        "\n",
        "# process these files and produce new files:\n",
        "# training qa data \"data/daquar/qa.894.raw.train.format_triple\"\n",
        "# testing qa data \"data/daquar/qa.894.raw.test.format_triple\"\n",
        "\n",
        "preprocess_triple_file(\"data/daquar/qa.894.raw.train.format_triple\")\n",
        "preprocess_triple_file(\"data/daquar/qa.894.raw.test.format_triple\")"
      ],
      "execution_count": 0,
      "outputs": []
    },
    {
      "cell_type": "code",
      "metadata": {
        "id": "Kk1EYo82EcwW",
        "colab_type": "code",
        "colab": {
          "base_uri": "https://localhost:8080/",
          "height": 153
        },
        "outputId": "f07ab5a7-0590-4ce1-c851-2e984e854693"
      },
      "source": [
        "! ls data/daquar/qa.894.raw.train.format_triple.*\n",
        "! ls data/daquar/qa.894.raw.test.format_triple.*"
      ],
      "execution_count": 23,
      "outputs": [
        {
          "output_type": "stream",
          "text": [
            "data/daquar/qa.894.raw.train.format_triple.answers\n",
            "data/daquar/qa.894.raw.train.format_triple.contexts\n",
            "data/daquar/qa.894.raw.train.format_triple.metadata.npy\n",
            "data/daquar/qa.894.raw.train.format_triple.questions\n",
            "data/daquar/qa.894.raw.test.format_triple.answers\n",
            "data/daquar/qa.894.raw.test.format_triple.contexts\n",
            "data/daquar/qa.894.raw.test.format_triple.metadata.npy\n",
            "data/daquar/qa.894.raw.test.format_triple.questions\n"
          ],
          "name": "stdout"
        }
      ]
    },
    {
      "cell_type": "code",
      "metadata": {
        "id": "Krd3k43MEcwX",
        "colab_type": "code",
        "colab": {
          "base_uri": "https://localhost:8080/",
          "height": 187
        },
        "outputId": "00a736be-5a6e-4366-b5fd-7a05c60d1ac3"
      },
      "source": [
        "!  head data/daquar/qa.894.raw.train.format_triple.questions"
      ],
      "execution_count": 24,
      "outputs": [
        {
          "output_type": "stream",
          "text": [
            "what is on the right side of the black telephone and on the left side of the red chair \n",
            "what is in front of the white door on the left side of the desk \n",
            "what is on the desk \n",
            "what is the largest brown objects \n",
            "what color is the chair in front of the white wall \n",
            "what is on the right side of the notebook on the desk \n",
            "what is on the right and left and in front of the papers on the desk \n",
            "what is on the desk and behind the black cup \n",
            "how many bottles are on the desk \n",
            "what is in front of the papers and notebook and bottles \n"
          ],
          "name": "stdout"
        }
      ]
    },
    {
      "cell_type": "code",
      "metadata": {
        "id": "l0l6wgV3EcwZ",
        "colab_type": "code",
        "colab": {}
      },
      "source": [
        "# Now, we can read from preprocessed files but still there are some preprocessing left to do"
      ],
      "execution_count": 0,
      "outputs": []
    },
    {
      "cell_type": "code",
      "metadata": {
        "id": "TjijaBw0Ecwb",
        "colab_type": "code",
        "colab": {}
      },
      "source": [
        "metadata = np.load('data/daquar/qa.894.raw.train.format_triple.metadata.npy', allow_pickle=True)[None][0]\n",
        "question_len = metadata['questions']['max_len']\n",
        "vocab = metadata['questions']['vocab']\n",
        "# dump the frequencies:\n",
        "vocab = ['<pad>', '<unk>', '?']+[w for w,f in vocab.items()]# if f > 1] # don't keep the rare words.\n",
        "word2index = defaultdict(lambda: 1, zip(vocab, range(len(vocab)))) # this will set <unk> for unknwon words\n",
        "#{w: wid for wid, w in enumerate(vocab)}\n",
        "answers = metadata['answers']['vocab']\n",
        "answers = ['<unk>']+[w for w,f in answers.items()]# if f > 1] # don't keep the rare answers.\n",
        "answer2index = defaultdict(lambda: 0, zip(answers, range(len(answers)))) # this will set <unk> for unknwon words\n",
        "#{w: wid for wid, w in enumerate(answers)}"
      ],
      "execution_count": 0,
      "outputs": []
    },
    {
      "cell_type": "markdown",
      "metadata": {
        "id": "aWXLbPQGEcwc",
        "colab_type": "text"
      },
      "source": [
        "In order to deal with large files in python we need to write generators. But for this tutorial we are not working with very large dataset. So, we can pus all training data lists:"
      ]
    },
    {
      "cell_type": "code",
      "metadata": {
        "id": "v7r9URbjEcwc",
        "colab_type": "code",
        "colab": {}
      },
      "source": [
        "X_questions = [\n",
        "    [word2index['<pad>']]*(question_len-len(line.split()))+[word2index[w.strip()] for w in line.split()]+[word2index['?']]\n",
        "    for line in open('data/daquar/qa.894.raw.train.format_triple.questions')\n",
        "]\n",
        "\n",
        "Y_answers = [\n",
        "    [answer2index[w.strip()] for w in line.split()]\n",
        "    for line in open('data/daquar/qa.894.raw.train.format_triple.answers')\n",
        "]"
      ],
      "execution_count": 0,
      "outputs": []
    },
    {
      "cell_type": "code",
      "metadata": {
        "id": "5c6mCLavEcwe",
        "colab_type": "code",
        "colab": {}
      },
      "source": [
        "# this code takes time:\n",
        "X_images = [\n",
        "    img2vec(\"data/daquar/images/{0}.png\".format(image_name.strip()))\n",
        "    for image_name in open('data/daquar/qa.894.raw.train.format_triple.contexts')\n",
        "]"
      ],
      "execution_count": 0,
      "outputs": []
    },
    {
      "cell_type": "code",
      "metadata": {
        "id": "lu1DPCDXEcwf",
        "colab_type": "code",
        "colab": {
          "base_uri": "https://localhost:8080/",
          "height": 34
        },
        "outputId": "f10f2fc9-8f06-4388-9da1-d5c7238f7e76"
      },
      "source": [
        "X_images[0].shape"
      ],
      "execution_count": 30,
      "outputs": [
        {
          "output_type": "execute_result",
          "data": {
            "text/plain": [
              "(100352,)"
            ]
          },
          "metadata": {
            "tags": []
          },
          "execution_count": 30
        }
      ]
    },
    {
      "cell_type": "code",
      "metadata": {
        "id": "c2rlCj1_Ecwh",
        "colab_type": "code",
        "colab": {}
      },
      "source": [
        "# repeat questions with several answers, and flatten them with one answer:\n",
        "trainig_data = list(zip(*[(q,i,a) for q, i, a_s in zip(X_questions,X_images,Y_answers) for a in a_s]))"
      ],
      "execution_count": 0,
      "outputs": []
    },
    {
      "cell_type": "code",
      "metadata": {
        "id": "TTZHFwREEcwi",
        "colab_type": "code",
        "colab": {}
      },
      "source": [
        "X_train = [np.array(trainig_data[0]), np.array(trainig_data[1])]\n",
        "Y_train = np.array(trainig_data[2])\n",
        "visual_vec_len = 2048 #X_train[1].shape[1]"
      ],
      "execution_count": 0,
      "outputs": []
    },
    {
      "cell_type": "code",
      "metadata": {
        "id": "275yGxNHEcwl",
        "colab_type": "code",
        "colab": {
          "base_uri": "https://localhost:8080/",
          "height": 85
        },
        "outputId": "457dc4aa-e39c-4ffe-d71e-2d05e6cebd0b"
      },
      "source": [
        "print('the number of all possible answers:', len(answers))\n",
        "print('the size of vocabulary:', len(vocab))\n",
        "print('the total number of training samples', len(Y_train))\n",
        "print('the total number of images', len(set([image_name for image_name in open('data/daquar/qa.894.raw.train.format_triple.contexts')])))"
      ],
      "execution_count": 33,
      "outputs": [
        {
          "output_type": "stream",
          "text": [
            "the number of all possible answers: 500\n",
            "the size of vocabulary: 879\n",
            "the total number of training samples 7768\n",
            "the total number of images 794\n"
          ],
          "name": "stdout"
        }
      ]
    },
    {
      "cell_type": "code",
      "metadata": {
        "id": "u16m2ZkYEcwo",
        "colab_type": "code",
        "colab": {}
      },
      "source": [
        "X_questions_test = [\n",
        "    [word2index['<pad>']]*(question_len-len(line.split()))+[word2index[w.strip()] for w in line.split()][:question_len]+[word2index['?']]\n",
        "    for line in open('data/daquar/qa.894.raw.test.format_triple.questions')\n",
        "]\n",
        "\n",
        "Y_answers_test = [\n",
        "    [answer2index[w.strip()] for w in line.split()]\n",
        "    for line in open('data/daquar/qa.894.raw.test.format_triple.answers')\n",
        "]\n",
        "\n",
        "# this code takes time:\n",
        "X_images_test = [\n",
        "    img2vec(\"data/daquar/images/{0}.png\".format(image_name.strip()))\n",
        "    for image_name in open('data/daquar/qa.894.raw.test.format_triple.contexts')\n",
        "]\n",
        "\n",
        "test_data = list(zip(*[(q,i,a) for q, i, a_s in zip(X_questions_test,X_images_test,Y_answers_test) for a in a_s]))\n",
        "\n",
        "X_test = [np.array(test_data[0]), np.array(test_data[1])]\n",
        "Y_test = np.array(test_data[2])"
      ],
      "execution_count": 0,
      "outputs": []
    },
    {
      "cell_type": "code",
      "metadata": {
        "id": "VSCXGX03Ecwp",
        "colab_type": "code",
        "colab": {
          "base_uri": "https://localhost:8080/",
          "height": 68
        },
        "outputId": "baff3a8e-c756-4496-eed4-704b038bf940"
      },
      "source": [
        "X_test[0][0]"
      ],
      "execution_count": 35,
      "outputs": [
        {
          "output_type": "execute_result",
          "data": {
            "text/plain": [
              "array([  0,   0,   0,   0,   0,   0,   0,   3,   4,   5,   6,  13,   8,\n",
              "         9,   6,  19, 187,   5,   6,  66,  12,   5,   7,   8,   9,   6,\n",
              "        43, 226,   2])"
            ]
          },
          "metadata": {
            "tags": []
          },
          "execution_count": 35
        }
      ]
    },
    {
      "cell_type": "markdown",
      "metadata": {
        "id": "95KYxMhcEcwr",
        "colab_type": "text"
      },
      "source": [
        "### A Keras model"
      ]
    },
    {
      "cell_type": "code",
      "metadata": {
        "id": "LA99ANw6Ecws",
        "colab_type": "code",
        "colab": {}
      },
      "source": [
        "from keras.models import load_model\n",
        "from keras.models import Sequential, Model\n",
        "from keras.layers import Dense, LSTM, Embedding, Concatenate, Dropout\n",
        "from keras.layers import Input\n",
        "from keras.layers import AveragePooling2D, Reshape, Flatten\n",
        "from keras.callbacks import EarlyStopping\n",
        "import keras.backend as K"
      ],
      "execution_count": 0,
      "outputs": []
    },
    {
      "cell_type": "code",
      "metadata": {
        "id": "CtNjOhd2Ecwt",
        "colab_type": "code",
        "colab": {
          "base_uri": "https://localhost:8080/",
          "height": 717
        },
        "outputId": "cad1a5b2-4127-4e05-937f-95d9bf7881d8"
      },
      "source": [
        "input_question = Input([question_len+1,])\n",
        "input_context = Input([7*7*2048,])\n",
        "\n",
        "# learn embedings (size=50 as we chose just now :D)\n",
        "q_embs = Embedding(len(vocab), 50)(input_question)\n",
        "\n",
        "# encode the question\n",
        "q_encoded = LSTM(50)(q_embs)\n",
        "\n",
        "mlp_1 = Dense(visual_vec_len, activation='tanh')(q_encoded)\n",
        "\n",
        "# spatial average\n",
        "vis_vec = Flatten()(AveragePooling2D([7,7])(Reshape([7,7,2048])(input_context)))\n",
        "\n",
        "# question + image\n",
        "q_composed = Concatenate()([vis_vec, mlp_1])\n",
        "\n",
        "mlp_2 = Dropout(0.2)(Dense(visual_vec_len, activation='relu')(q_composed))\n",
        "\n",
        "final_a = Dense(len(answers), activation='softmax')(mlp_2)\n",
        "\n",
        "model = Model([input_question, input_context], final_a)\n",
        "model.summary()"
      ],
      "execution_count": 37,
      "outputs": [
        {
          "output_type": "stream",
          "text": [
            "WARNING:tensorflow:From /usr/local/lib/python3.6/dist-packages/keras/backend/tensorflow_backend.py:4432: The name tf.random_uniform is deprecated. Please use tf.random.uniform instead.\n",
            "\n",
            "WARNING:tensorflow:From /usr/local/lib/python3.6/dist-packages/keras/backend/tensorflow_backend.py:4271: The name tf.nn.avg_pool is deprecated. Please use tf.nn.avg_pool2d instead.\n",
            "\n",
            "WARNING:tensorflow:From /usr/local/lib/python3.6/dist-packages/keras/backend/tensorflow_backend.py:3733: calling dropout (from tensorflow.python.ops.nn_ops) with keep_prob is deprecated and will be removed in a future version.\n",
            "Instructions for updating:\n",
            "Please use `rate` instead of `keep_prob`. Rate should be set to `rate = 1 - keep_prob`.\n",
            "Model: \"model_1\"\n",
            "__________________________________________________________________________________________________\n",
            "Layer (type)                    Output Shape         Param #     Connected to                     \n",
            "==================================================================================================\n",
            "input_3 (InputLayer)            (None, 100352)       0                                            \n",
            "__________________________________________________________________________________________________\n",
            "input_2 (InputLayer)            (None, 29)           0                                            \n",
            "__________________________________________________________________________________________________\n",
            "reshape_1 (Reshape)             (None, 7, 7, 2048)   0           input_3[0][0]                    \n",
            "__________________________________________________________________________________________________\n",
            "embedding_1 (Embedding)         (None, 29, 50)       43950       input_2[0][0]                    \n",
            "__________________________________________________________________________________________________\n",
            "average_pooling2d_1 (AveragePoo (None, 1, 1, 2048)   0           reshape_1[0][0]                  \n",
            "__________________________________________________________________________________________________\n",
            "lstm_1 (LSTM)                   (None, 50)           20200       embedding_1[0][0]                \n",
            "__________________________________________________________________________________________________\n",
            "flatten_1 (Flatten)             (None, 2048)         0           average_pooling2d_1[0][0]        \n",
            "__________________________________________________________________________________________________\n",
            "dense_1 (Dense)                 (None, 2048)         104448      lstm_1[0][0]                     \n",
            "__________________________________________________________________________________________________\n",
            "concatenate_1 (Concatenate)     (None, 4096)         0           flatten_1[0][0]                  \n",
            "                                                                 dense_1[0][0]                    \n",
            "__________________________________________________________________________________________________\n",
            "dense_2 (Dense)                 (None, 2048)         8390656     concatenate_1[0][0]              \n",
            "__________________________________________________________________________________________________\n",
            "dropout_1 (Dropout)             (None, 2048)         0           dense_2[0][0]                    \n",
            "__________________________________________________________________________________________________\n",
            "dense_3 (Dense)                 (None, 500)          1024500     dropout_1[0][0]                  \n",
            "==================================================================================================\n",
            "Total params: 9,583,754\n",
            "Trainable params: 9,583,754\n",
            "Non-trainable params: 0\n",
            "__________________________________________________________________________________________________\n"
          ],
          "name": "stdout"
        }
      ]
    },
    {
      "cell_type": "markdown",
      "metadata": {
        "id": "lvXew9ALEcwu",
        "colab_type": "text"
      },
      "source": [
        "## Train the model"
      ]
    },
    {
      "cell_type": "code",
      "metadata": {
        "id": "iPiH4pYoEcwv",
        "colab_type": "code",
        "colab": {
          "base_uri": "https://localhost:8080/",
          "height": 105
        },
        "outputId": "803ed195-5840-4a32-e90f-9161079f675e"
      },
      "source": [
        "# what is the loss, and how the parameters should be updated:\n",
        "model.compile('adam', 'sparse_categorical_crossentropy')"
      ],
      "execution_count": 38,
      "outputs": [
        {
          "output_type": "stream",
          "text": [
            "WARNING:tensorflow:From /usr/local/lib/python3.6/dist-packages/keras/optimizers.py:793: The name tf.train.Optimizer is deprecated. Please use tf.compat.v1.train.Optimizer instead.\n",
            "\n",
            "WARNING:tensorflow:From /usr/local/lib/python3.6/dist-packages/keras/backend/tensorflow_backend.py:3622: The name tf.log is deprecated. Please use tf.math.log instead.\n",
            "\n"
          ],
          "name": "stdout"
        }
      ]
    },
    {
      "cell_type": "code",
      "metadata": {
        "scrolled": false,
        "id": "b9xPKVS6Ecww",
        "colab_type": "code",
        "colab": {
          "base_uri": "https://localhost:8080/",
          "height": 530
        },
        "outputId": "8bba4068-aade-4f0c-e179-503d825bcecf"
      },
      "source": [
        "model.fit(X_train, Y_train, epochs=100, batch_size=32, validation_split=0.1, callbacks=[EarlyStopping(patience=5)])"
      ],
      "execution_count": 39,
      "outputs": [
        {
          "output_type": "stream",
          "text": [
            "WARNING:tensorflow:From /usr/local/lib/python3.6/dist-packages/tensorflow_core/python/ops/math_grad.py:1424: where (from tensorflow.python.ops.array_ops) is deprecated and will be removed in a future version.\n",
            "Instructions for updating:\n",
            "Use tf.where in 2.0, which has the same broadcast rule as np.where\n",
            "WARNING:tensorflow:From /usr/local/lib/python3.6/dist-packages/keras/backend/tensorflow_backend.py:1033: The name tf.assign_add is deprecated. Please use tf.compat.v1.assign_add instead.\n",
            "\n",
            "WARNING:tensorflow:From /usr/local/lib/python3.6/dist-packages/keras/backend/tensorflow_backend.py:1020: The name tf.assign is deprecated. Please use tf.compat.v1.assign instead.\n",
            "\n",
            "Train on 6991 samples, validate on 777 samples\n",
            "Epoch 1/100\n",
            "6991/6991 [==============================] - 51s 7ms/step - loss: 4.7519 - val_loss: 5.0003\n",
            "Epoch 2/100\n",
            "6991/6991 [==============================] - 48s 7ms/step - loss: 3.9185 - val_loss: 4.8590\n",
            "Epoch 3/100\n",
            "6991/6991 [==============================] - 50s 7ms/step - loss: 3.5350 - val_loss: 4.9620\n",
            "Epoch 4/100\n",
            "6991/6991 [==============================] - 48s 7ms/step - loss: 3.2300 - val_loss: 4.9018\n",
            "Epoch 5/100\n",
            "6991/6991 [==============================] - 49s 7ms/step - loss: 2.9437 - val_loss: 4.7849\n",
            "Epoch 6/100\n",
            "6991/6991 [==============================] - 48s 7ms/step - loss: 2.7026 - val_loss: 4.9153\n",
            "Epoch 7/100\n",
            "6991/6991 [==============================] - 48s 7ms/step - loss: 2.5090 - val_loss: 5.0844\n",
            "Epoch 8/100\n",
            "6991/6991 [==============================] - 48s 7ms/step - loss: 2.3186 - val_loss: 5.1426\n",
            "Epoch 9/100\n",
            "6991/6991 [==============================] - 48s 7ms/step - loss: 2.1513 - val_loss: 5.0753\n",
            "Epoch 10/100\n",
            "6991/6991 [==============================] - 48s 7ms/step - loss: 2.0114 - val_loss: 5.0981\n"
          ],
          "name": "stdout"
        },
        {
          "output_type": "execute_result",
          "data": {
            "text/plain": [
              "<keras.callbacks.History at 0x7fc348cfd320>"
            ]
          },
          "metadata": {
            "tags": []
          },
          "execution_count": 39
        }
      ]
    },
    {
      "cell_type": "code",
      "metadata": {
        "id": "gilR5rLkEcwz",
        "colab_type": "code",
        "colab": {}
      },
      "source": [
        "model.save('saved_model.h5')  # creates a HDF5 file 'my_model.h5'\n",
        "#model = load_model('my_model.h5')"
      ],
      "execution_count": 0,
      "outputs": []
    },
    {
      "cell_type": "code",
      "metadata": {
        "id": "-TdVgBf3Ecw1",
        "colab_type": "code",
        "colab": {
          "base_uri": "https://localhost:8080/",
          "height": 85
        },
        "outputId": "c40ea054-f849-4f52-b544-df4b39186617"
      },
      "source": [
        "print('a test question:', ' '.join([vocab[wid] for sent in X_test[0][1:2] for wid in sent if wid != 0]))\n",
        "print('the dataset answer:', ' '.join([answers[wid] for wid in Y_test[1:2] ]))\n",
        "print('the predicted answer:', answers[np.argmax(model.predict([X_test[0][1:2], X_test[1][1:2]]), 1)[0]])\n",
        "print('image:', [image_name.strip() for image_name in open('data/daquar/qa.894.raw.test.format_triple.contexts')][1])"
      ],
      "execution_count": 41,
      "outputs": [
        {
          "output_type": "stream",
          "text": [
            "a test question: what is on the left side of the fire extinguisher and on the right side of the chair ?\n",
            "the dataset answer: table\n",
            "the predicted answer: garbage_bin\n",
            "image: image1\n"
          ],
          "name": "stdout"
        }
      ]
    },
    {
      "cell_type": "markdown",
      "metadata": {
        "id": "FHK77TK8Ecw3",
        "colab_type": "text"
      },
      "source": [
        "![](https://github.com/sdobnik/aics/blob/master/tutorials/vqa/data/daquar/images/image1.png?raw=1)"
      ]
    },
    {
      "cell_type": "code",
      "metadata": {
        "id": "BjyV60qUEcw4",
        "colab_type": "code",
        "colab": {}
      },
      "source": [
        "results = np.argmax(model.predict(X_test), 1)"
      ],
      "execution_count": 0,
      "outputs": []
    },
    {
      "cell_type": "code",
      "metadata": {
        "id": "gvhK0JLQEcw5",
        "colab_type": "code",
        "colab": {},
        "outputId": "ade154fb-1bd6-4766-8583-1a916f5d76c5"
      },
      "source": [
        "X_test[0][10]"
      ],
      "execution_count": 0,
      "outputs": [
        {
          "output_type": "execute_result",
          "data": {
            "text/plain": [
              "array([ 0,  0,  0,  0,  0,  0,  0,  0,  0,  0,  3, 25,  4,  6, 14, 65, 17,\n",
              "       18,  9,  6, 26,  5,  6, 13,  8,  9,  6, 21,  2])"
            ]
          },
          "metadata": {
            "tags": []
          },
          "execution_count": 51
        }
      ]
    },
    {
      "cell_type": "code",
      "metadata": {
        "id": "EuGmw5cXEcw7",
        "colab_type": "code",
        "colab": {},
        "outputId": "357caade-05e4-4c47-aede-a8aeeab63e5c"
      },
      "source": [
        "index2sent = lambda x: ' '.join([vocab[wid] for wid in x if wid != 0])\n",
        "index2sent(X_test[0][9]), answers[Y_test[9]], answers[results[9]]"
      ],
      "execution_count": 0,
      "outputs": [
        {
          "output_type": "execute_result",
          "data": {
            "text/plain": [
              "('what is under the pan ?', 'oven', 'garbage_bin')"
            ]
          },
          "metadata": {
            "tags": []
          },
          "execution_count": 53
        }
      ]
    },
    {
      "cell_type": "markdown",
      "metadata": {
        "id": "LL_RYseYEcw8",
        "colab_type": "text"
      },
      "source": [
        "![](https://github.com/sdobnik/aics/blob/master/tutorials/vqa/data/daquar/images/image2.png?raw=1)"
      ]
    },
    {
      "cell_type": "code",
      "metadata": {
        "id": "0y6TBqRMEcxA",
        "colab_type": "code",
        "colab": {},
        "outputId": "52d970e8-2942-45c6-9625-ab9d49691e5c"
      },
      "source": [
        "! head -120 data/daquar/qa.894.raw.test.format_triple "
      ],
      "execution_count": 0,
      "outputs": [
        {
          "output_type": "stream",
          "text": [
            "what is on the left side of the white oven on the floor and on right side of the blue armchair ?\r\n",
            "garbage_bin\r\n",
            "image1\r\n",
            "what is on the left side of the fire extinguisher and on the right side of the chair ?\r\n",
            "table\r\n",
            "image1\r\n",
            "what is between the the two white and black garbage bins ?\r\n",
            "chair\r\n",
            "image1\r\n",
            "how many objects are between the fire extinguisher and the white oven on the floor ?\r\n",
            "3\r\n",
            "image1\r\n",
            "what is the largest object in this picture ?\r\n",
            "washing_machine\r\n",
            "image1\r\n",
            "how many plastic bottles are between the white fridge and the oven ?\r\n",
            "5\r\n",
            "image2\r\n",
            "what is under the white cabinet on the right side of the oven and and on the left side of the fridge ?\r\n",
            "sink\r\n",
            "image2\r\n",
            "what is on the left side of the white sink and under the cabinet ?\r\n",
            "microwave\r\n",
            "image2\r\n",
            "how many white objects in this picture ?\r\n",
            "9\r\n",
            "image2\r\n",
            "what is under the pan ?\r\n",
            "oven\r\n",
            "image2\r\n",
            "what color is the red object in front of the wall on the left side of the desk ?\r\n",
            "paper_tray\r\n",
            "image9\r\n",
            "what is above the desk in fornt of the scissor ?\r\n",
            "hole_puncher\r\n",
            "image9\r\n",
            "what is the largest blue object in this picture ?\r\n",
            "garbage_bin\r\n",
            "image9\r\n",
            "what is on the wall on the left side of the door above the desk ?\r\n",
            "framed_certificate\r\n",
            "image9\r\n",
            "what is in fornt of the window on the left side of the fan coil on the right side of the wall ?\r\n",
            "ornamental_plant\r\n",
            "image14\r\n",
            "what color is the ornamental plant in fornt of the fan coil but not close to sofa ?\r\n",
            "red\r\n",
            "image14\r\n",
            "what the largest light green object in this picture ?\r\n",
            "sofa\r\n",
            "image14\r\n",
            "what is in fornt of the white wall below the colorful picture but not close to window ?\r\n",
            "sofa\r\n",
            "image14\r\n",
            "how many ornamental plants are in this picture ?\r\n",
            "3\r\n",
            "image14\r\n",
            "what is the red object on the wall on the left side of the corridor ?\r\n",
            "fire_extinguisher\r\n",
            "image15\r\n",
            "what is on the wall on the left side of the door and on the right side of the picture ?\r\n",
            "fire_alarm\r\n",
            "image15\r\n",
            "what color is the door on the right side of the corridor ?\r\n",
            "brown\r\n",
            "image15\r\n",
            "how many ceiling lamps are on in the corridor ?\r\n",
            "1\r\n",
            "image15\r\n",
            "what is the smallest black object on the table below the bookshelf ?\r\n",
            "tape_dispenser\r\n",
            "image16\r\n",
            "what is the white object on the table on the right side of the wall below the bookshelf ?\r\n",
            "printer\r\n",
            "image16\r\n",
            "what is in front of the wall on the left side of the picture ?\r\n",
            "ladder\r\n",
            "image16\r\n",
            "what color is the table below the printer but not below the tape dispenser or paper tray ?\r\n",
            "brown\r\n",
            "image16\r\n",
            "what is on the right side of the brown table and on the left side of the door frame in fornt of the wall ?\r\n",
            "ladder\r\n",
            "image17\r\n",
            "what is the brown object above the file cabinet ?\r\n",
            "bookshelf\r\n",
            "image17\r\n",
            "what is on the right side of the ladder ?\r\n",
            "door_way\r\n",
            "image18\r\n",
            "how many ladders are in this picture ?\r\n",
            "1\r\n",
            "image18\r\n",
            "what is on right side of the door way and on the left side of the armchair in frot of the wall ?\r\n",
            "water_dispenser\r\n",
            "image21\r\n",
            "what is on the right side of the blue water carboy and on the left side of the black cables ?\r\n",
            "telephone_cord\r\n",
            "image21\r\n",
            "what is on the table on the right side of the armchair in fornt of the wall ?\r\n",
            "hand_sanitizer_dispenser\r\n",
            "image21\r\n",
            "what is the largest blue object in this picture ?\r\n",
            "water_carboy\r\n",
            "image21\r\n",
            "what color is the garbage bin in front of the white board on the floor ?\r\n",
            "blue\r\n",
            "image28\r\n",
            "how many ceiling lamps are off in this picture ?\r\n",
            "2\r\n",
            "image28\r\n",
            "what is the black object on the right side of the flipped table ?\r\n",
            "chair\r\n",
            "image28\r\n",
            "what is the largest white object in this picture ?\r\n",
            "whiteboard\r\n",
            "image28\r\n",
            "what is the blue object on the left side electrical outlet behind the computer case ?\r\n",
            "water_carboy\r\n",
            "image30\r\n"
          ],
          "name": "stdout"
        }
      ]
    },
    {
      "cell_type": "code",
      "metadata": {
        "id": "iuIFOz1nEcxB",
        "colab_type": "code",
        "colab": {}
      },
      "source": [
        "input_question = Input([question_len+1,])\n",
        "input_context = Input([7*7*visual_vec_len,])\n",
        "\n",
        "# learn embedings (size=50 as we chose just now :D)\n",
        "q_embs = Embedding(len(vocab), 50)(input_question)\n",
        "\n",
        "# encode the question\n",
        "q_encoded = LSTM(50)(q_embs)\n",
        "\n",
        "mlp_1 = Dense(visual_vec_len, activation='tanh')(q_encoded)\n",
        "\n",
        "# spatial average\n",
        "q_composed = Concatenate()([Flatten()(AveragePooling2D([7,7])(Reshape([7,7,2048])(input_context))), mlp_1])\n",
        "\n",
        "mlp_2 = Dropout(0.2)(Dense(visual_vec_len, activation='relu')(q_composed))\n",
        "\n",
        "final_a = Dense(len(answers), activation='softmax')(mlp_2)\n",
        "\n",
        "model = Model([input_question, input_context], final_a)\n",
        "model.summary()"
      ],
      "execution_count": 0,
      "outputs": []
    },
    {
      "cell_type": "markdown",
      "metadata": {
        "id": "qgVR6am6EcxD",
        "colab_type": "text"
      },
      "source": [
        "# Discussions"
      ]
    },
    {
      "cell_type": "code",
      "metadata": {
        "id": "UTULpJKhEcxD",
        "colab_type": "code",
        "colab": {}
      },
      "source": [
        "# the goal is come with discussions about what can be done better than what we have in this model."
      ],
      "execution_count": 0,
      "outputs": []
    },
    {
      "cell_type": "code",
      "metadata": {
        "id": "czoWdcriEcxE",
        "colab_type": "code",
        "colab": {}
      },
      "source": [
        ""
      ],
      "execution_count": 0,
      "outputs": []
    }
  ]
}